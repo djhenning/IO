{
 "cells": [
  {
   "cell_type": "markdown",
   "metadata": {},
   "source": [
    "# Assignment 2 - IO"
   ]
  },
  {
   "cell_type": "markdown",
   "metadata": {},
   "source": [
    "Worked with Natasha Watkins"
   ]
  },
  {
   "cell_type": "code",
   "execution_count": 1,
   "metadata": {},
   "outputs": [],
   "source": [
    "import numpy as np\n",
    "import pandas as pd\n",
    "import matplotlib.pyplot as plt\n",
    "import math"
   ]
  },
  {
   "cell_type": "code",
   "execution_count": 2,
   "metadata": {},
   "outputs": [],
   "source": [
    "d = pd.read_csv(\"PS2_Data/PS2Data.csv\")"
   ]
  },
  {
   "cell_type": "code",
   "execution_count": 3,
   "metadata": {},
   "outputs": [],
   "source": [
    "bid_auction = d[['Bidder 1', 'Bidder 2']].values\n",
    "bids = bid_auction.flatten()"
   ]
  },
  {
   "cell_type": "code",
   "execution_count": 4,
   "metadata": {},
   "outputs": [],
   "source": [
    "#Define relevant parameters\n",
    "I = bid_auction.shape[1]\n",
    "L = bid_auction.shape[0]\n",
    "IL = I * L\n",
    "\n",
    "B = np.sort(bids)\n",
    "N = len(bids)"
   ]
  },
  {
   "cell_type": "code",
   "execution_count": 5,
   "metadata": {},
   "outputs": [],
   "source": [
    "#Calculate G(B_pl)\n",
    "G = np.zeros((N,I))\n",
    "\n",
    "for i in range(N):\n",
    "    b = B[i]\n",
    "    a = bids < b\n",
    "    G_sum =sum(a)\n",
    "    G[i,0] = b\n",
    "    G[i,1] = G_sum / IL"
   ]
  },
  {
   "cell_type": "code",
   "execution_count": 6,
   "metadata": {},
   "outputs": [
    {
     "name": "stderr",
     "output_type": "stream",
     "text": [
      "No handles with labels found to put in legend.\n"
     ]
    },
    {
     "data": {
      "image/png": "[encoded data removed]",
      "text/plain": [
       "<Figure size 432x288 with 1 Axes>"
      ]
     },
     "metadata": {
      "needs_background": "light"
     },
     "output_type": "display_data"
    }
   ],
   "source": [
    "#Plot G(B_pl)\n",
    "y = G[:,0]\n",
    "x = G[:,1]\n",
    "plt.plot(y, x)\n",
    "plt.title('G(B_pl)')\n",
    "plt.legend()\n",
    "plt.show()"
   ]
  },
  {
   "cell_type": "code",
   "execution_count": 7,
   "metadata": {},
   "outputs": [],
   "source": [
    "#Define kernel\n",
    "def K(u):\n",
    "    if abs(u)<=1:\n",
    "        k = (35 / 32) * (1 - u**2)**3\n",
    "    else:\n",
    "        k = 0\n",
    "    \n",
    "    return k"
   ]
  },
  {
   "cell_type": "code",
   "execution_count": 8,
   "metadata": {},
   "outputs": [],
   "source": [
    "#Define parameters for g estimation\n",
    "σ_b = np.std(bids)\n",
    "h_g = 1.06 * σ_b * (IL)**(- 1 / 5)\n",
    "ρ_g = 2"
   ]
  },
  {
   "cell_type": "code",
   "execution_count": 9,
   "metadata": {},
   "outputs": [],
   "source": [
    "#Estimate g(B_pl)\n",
    "g = np.zeros((N,I))\n",
    "\n",
    "for i in range(N):\n",
    "    b = B[i]\n",
    "    \n",
    "    g_sum = 0\n",
    "    for j in range(IL):\n",
    "        u = (b - bids[j]) / h_g\n",
    "        k_g = K(u)\n",
    "        g_sum =  g_sum + k_g\n",
    "        \n",
    "    g[i,0] = b\n",
    "    g[i,1] = g_sum / (IL * h_g)"
   ]
  },
  {
   "cell_type": "code",
   "execution_count": 10,
   "metadata": {},
   "outputs": [
    {
     "name": "stderr",
     "output_type": "stream",
     "text": [
      "No handles with labels found to put in legend.\n"
     ]
    },
    {
     "data": {
      "image/png": "[encoded data removed]",
      "text/plain": [
       "<Figure size 432x288 with 1 Axes>"
      ]
     },
     "metadata": {
      "needs_background": "light"
     },
     "output_type": "display_data"
    }
   ],
   "source": [
    "#Plot g(B_pl)\n",
    "y = g[:,0]\n",
    "x = g[:,1]\n",
    "plt.plot(y, x)\n",
    "plt.title('g(B_pl)')\n",
    "plt.legend()\n",
    "plt.show()"
   ]
  },
  {
   "cell_type": "code",
   "execution_count": 11,
   "metadata": {},
   "outputs": [],
   "source": [
    "#Create pseudo private values\n",
    "B_max = np.max(bids)\n",
    "B_min = np.min(bids)\n",
    "\n",
    "v_hat = np.zeros(N)\n",
    "\n",
    "for i in range(N):\n",
    "    B_pl = bids[i]\n",
    "    if B_min + ρ_g * h_g / 2 <= B_pl and B_pl <= B_max - ρ_g * h_g / 2:\n",
    "        v_hat[i] = B_pl + (1 / (I - 1)) * (G[i,0] / g[i,0])\n",
    "    else:\n",
    "        v_hat[i] = math.inf"
   ]
  },
  {
   "cell_type": "code",
   "execution_count": 12,
   "metadata": {},
   "outputs": [],
   "source": [
    "#Trim auctions, to calculate number of auctions remaining after trimming\n",
    "trimmer = np.zeros_like(bid_auction)\n",
    "\n",
    "for i in range(L):\n",
    "    for j in range(I):\n",
    "        B_pl = bid_auction[i,j]\n",
    "        if B_min + ρ_g * h_g / 2 <= B_pl and B_pl <= B_max - ρ_g * h_g / 2:\n",
    "            trimmer[i,j] = True\n",
    "        else:\n",
    "            trimmer[i,j] = False\n",
    "\n",
    "auction_trim = bid_auction * trimmer\n",
    "auction_trim = auction_trim[~np.any(auction_trim == 0, axis=1)]"
   ]
  },
  {
   "cell_type": "code",
   "execution_count": 13,
   "metadata": {},
   "outputs": [],
   "source": [
    "#Define paramaters for f function\n",
    "L_t = auction_trim.shape[0]\n",
    "IL_t = I * L_t\n",
    "v_hat_trim = v_hat[v_hat < math.inf]\n",
    "σ_v = np.std(v_hat_trim)\n",
    "h_f = 1.06 * σ_v * (IL_t)**(- 1 / 5)"
   ]
  },
  {
   "cell_type": "code",
   "execution_count": 14,
   "metadata": {},
   "outputs": [],
   "source": [
    "#Create set of possible real values\n",
    "v_hat_min = np.min(v_hat_trim)\n",
    "v_hat_max = np.max(v_hat_trim)\n",
    "\n",
    "V = np.linspace(v_hat_min,v_hat_max,N)"
   ]
  },
  {
   "cell_type": "code",
   "execution_count": 15,
   "metadata": {},
   "outputs": [],
   "source": [
    "f = np.zeros((N,I))\n",
    "\n",
    "for i in range(N):\n",
    "    v = V[i]\n",
    "    \n",
    "    f_sum = 0\n",
    "    for j in range(IL):\n",
    "        u = (v - v_hat[j]) / h_f\n",
    "        k_f = K(u)\n",
    "        f_sum =  f_sum + k_f\n",
    "    \n",
    "    f[i,0] = v\n",
    "    f[i,1] = f_sum / (IL * h_f)"
   ]
  },
  {
   "cell_type": "code",
   "execution_count": 16,
   "metadata": {},
   "outputs": [
    {
     "name": "stderr",
     "output_type": "stream",
     "text": [
      "No handles with labels found to put in legend.\n"
     ]
    },
    {
     "data": {
      "image/png": "[encoded data removed]",
      "text/plain": [
       "<Figure size 432x288 with 1 Axes>"
      ]
     },
     "metadata": {
      "needs_background": "light"
     },
     "output_type": "display_data"
    }
   ],
   "source": [
    "y = f[:,0]\n",
    "x = f[:,1]\n",
    "plt.plot(y, x)\n",
    "plt.title('f(v)')\n",
    "plt.legend()\n",
    "plt.show()"
   ]
  }
 ],
 "metadata": {
  "kernelspec": {
   "display_name": "Python 3",
   "language": "python",
   "name": "python3"
  },
  "language_info": {
   "codemirror_mode": {
    "name": "ipython",
    "version": 3
   },
   "file_extension": ".py",
   "mimetype": "text/x-python",
   "name": "python",
   "nbconvert_exporter": "python",
   "pygments_lexer": "ipython3",
   "version": "3.8.3"
  }
 },
 "nbformat": 4,
 "nbformat_minor": 4
}
