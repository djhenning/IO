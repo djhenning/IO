{
 "cells": [
  {
   "cell_type": "markdown",
   "metadata": {},
   "source": [
    "### Assignment - IO"
   ]
  },
  {
   "cell_type": "code",
   "execution_count": 1,
   "metadata": {},
   "outputs": [],
   "source": [
    "import numpy as np\n",
    "import pandas as pd\n",
    "import statsmodels.api as sm\n",
    "import linearmodels as ln\n",
    "from statsmodels.sandbox.regression.gmm import IV2SLS\n",
    "from scipy.optimize import minimize, fsolve, root, least_squares\n",
    "from scipy import ndimage\n",
    "from pystout import pystout\n",
    "from tabulate import tabulate\n",
    "from scipy.stats import uniform as u\n",
    "import matplotlib.pyplot as plt"
   ]
  },
  {
   "cell_type": "code",
   "execution_count": 2,
   "metadata": {},
   "outputs": [],
   "source": [
    "df = pd.read_csv(\"autodata.csv\")\n",
    "df.rename(columns = {'Firm ID (there is a different number for each firm)':'Firm'}, inplace = True)\n",
    "df.rename(columns = {'Price($1000) (list price)':'Price'}, inplace = True)"
   ]
  },
  {
   "cell_type": "code",
   "execution_count": 3,
   "metadata": {},
   "outputs": [],
   "source": [
    "#Calculate shares\n",
    "s0 = 0.6 #Set outside good share\n",
    "df['Total q'] = df['Quantity'].sum()\n",
    "df['Share'] = df['Quantity'] / df['Total q'] * (1 - s0)"
   ]
  },
  {
   "cell_type": "code",
   "execution_count": 4,
   "metadata": {},
   "outputs": [],
   "source": [
    "#And sort data\n",
    "df.sort_values(by=['Price'], ascending = False, inplace=True) #Sort dataset\n",
    "df.reset_index(inplace = True)"
   ]
  },
  {
   "cell_type": "markdown",
   "metadata": {},
   "source": [
    "### Demand side estimation"
   ]
  },
  {
   "cell_type": "code",
   "execution_count": 5,
   "metadata": {},
   "outputs": [
    {
     "name": "stderr",
     "output_type": "stream",
     "text": [
      "C:\\Users\\djhen\\anaconda3\\lib\\site-packages\\pandas\\core\\indexing.py:671: SettingWithCopyWarning: \n",
      "A value is trying to be set on a copy of a slice from a DataFrame\n",
      "\n",
      "See the caveats in the documentation: https://pandas.pydata.org/pandas-docs/stable/user_guide/indexing.html#returning-a-view-versus-a-copy\n",
      "  self._setitem_with_indexer(indexer, value)\n"
     ]
    }
   ],
   "source": [
    "#Calculate thresholds\n",
    "sN = df['Share'].iloc[0]\n",
    "#General formatof inverse of Uniform cdf: F(p) = a + p(b - a)\n",
    "#If we assume a = 0 and b = 1\n",
    "#We will always maintain a = 0 (idea: lowest possible taste for quality is not caring)\n",
    "b = 10\n",
    "df['Δ'] = u.ppf(1 - sN)\n",
    "\n",
    "for i, r in df.iloc[1:].iterrows():\n",
    "    Δ_previous = df['Δ'].iloc[i-1]\n",
    "    s = df['Share'].iloc[i]\n",
    "    \n",
    "    df['Δ'].iloc[i] = u.ppf(u.cdf(Δ_previous) - s)"
   ]
  },
  {
   "cell_type": "code",
   "execution_count": 6,
   "metadata": {},
   "outputs": [],
   "source": [
    "#Resort in opposite way to get quality\n",
    "df.sort_values(by=['Price'], inplace=True) #Sort dataset\n",
    "df.reset_index(inplace = True)"
   ]
  },
  {
   "cell_type": "code",
   "execution_count": 7,
   "metadata": {},
   "outputs": [],
   "source": [
    "#Calculate implied quality levels\n",
    "df['δ'] = 0\n",
    "\n",
    "for i, r in df.iterrows():\n",
    "    \n",
    "    if i == 0:\n",
    "        δ_previous = 0\n",
    "        p_previous = 0\n",
    "        \n",
    "    else:\n",
    "        δ_previous = df['δ'].iloc[i-1]\n",
    "        p_previous = df['Price'].iloc[i-1]\n",
    "        \n",
    "    p = df['Price'].iloc[i]\n",
    "    Δ = df['Δ'].iloc[i]\n",
    "    \n",
    "    df['δ'].iloc[i] = δ_previous + (p - p_previous) / Δ"
   ]
  },
  {
   "cell_type": "code",
   "execution_count": 8,
   "metadata": {},
   "outputs": [],
   "source": [
    "# Run OLS regression\n",
    "x = df[['Air Conditioning', 'Weight of Car', 'Horsepower']]\n",
    "y = df['δ']\n",
    "model1 = sm.OLS(y, x).fit()\n",
    "model1_α = model1.params"
   ]
  },
  {
   "cell_type": "code",
   "execution_count": 9,
   "metadata": {},
   "outputs": [],
   "source": [
    "pystout(models=[model1],\n",
    "        file='OLS_demand.tex',\n",
    "        digits=3,\n",
    "        endog_names=False,\n",
    "        exogvars=['Air Conditioning', 'Weight of Car', 'Horsepower'],\n",
    "        stars=False,\n",
    "        modstat={'nobs':'Obs','rsquared_adj':'Adj. R\\sym{2}'}\n",
    "        )"
   ]
  },
  {
   "cell_type": "markdown",
   "metadata": {},
   "source": [
    "### Supply side estimation"
   ]
  },
  {
   "cell_type": "code",
   "execution_count": 10,
   "metadata": {},
   "outputs": [],
   "source": [
    "#Estimate parameters under marginal cost pricing\n",
    "x = df[['Air Conditioning', 'Weight of Car', 'Horsepower', 'Quantity']]\n",
    "y = df['Price']\n",
    "supply1 = sm.OLS(y, x).fit()"
   ]
  },
  {
   "cell_type": "code",
   "execution_count": 11,
   "metadata": {},
   "outputs": [
    {
     "name": "stderr",
     "output_type": "stream",
     "text": [
      "<ipython-input-11-36e68a6df630>:25: RuntimeWarning: divide by zero encountered in double_scalars\n",
      "  η[i,i] = - (u.pdf(Δ_higher) / (δ_higher - δ) + u.pdf(Δ) / (δ - δ_lower) )\n",
      "<ipython-input-11-36e68a6df630>:26: RuntimeWarning: divide by zero encountered in double_scalars\n",
      "  own_price[i] = - (u.pdf(Δ_higher) / (δ_higher - δ) + u.pdf(Δ) / (δ - δ_lower) )\n",
      "<ipython-input-11-36e68a6df630>:46: RuntimeWarning: divide by zero encountered in double_scalars\n",
      "  η[i,j] = u.pdf(Δ_higher) / (δ_higher - δ)\n",
      "<ipython-input-11-36e68a6df630>:61: RuntimeWarning: divide by zero encountered in double_scalars\n",
      "  η[i,j] = u.pdf(Δ) / (δ - δ_lower)\n"
     ]
    }
   ],
   "source": [
    "#Estimate own and cross-price elasticities for every good\n",
    "J = df.shape[0]\n",
    "η = np.zeros((J, J))\n",
    "own_price = np.zeros(J)\n",
    "\n",
    "#Own-price\n",
    "for i in range(J):\n",
    "    p = df['Price'].iloc[i]\n",
    "    δ = df['δ'].iloc[i]\n",
    "    Δ = df['Δ'].iloc[i]\n",
    "    \n",
    "    if i == 0:\n",
    "        δ_lower = 0\n",
    "        δ_higher = df['δ'].iloc[i+1]\n",
    "        Δ_higher = df['Δ'].iloc[i+1]\n",
    "        \n",
    "        η[i,i] = - (u.pdf(Δ_higher) / (δ_higher - δ) + u.pdf(Δ) / (δ - δ_lower) )\n",
    "        own_price[i] = - (u.pdf(Δ_higher) / (δ_higher - δ) + u.pdf(Δ) / (δ - δ_lower) )\n",
    "    \n",
    "    elif 0 < i < J - 1 :\n",
    "        δ_lower = df['δ'].iloc[i-1]\n",
    "        δ_higher = df['δ'].iloc[i+1]\n",
    "        Δ_higher = df['Δ'].iloc[i+1]\n",
    "        \n",
    "        η[i,i] = - (u.pdf(Δ_higher) / (δ_higher - δ) + u.pdf(Δ) / (δ - δ_lower) )\n",
    "        own_price[i] = - (u.pdf(Δ_higher) / (δ_higher - δ) + u.pdf(Δ) / (δ - δ_lower) )\n",
    "        \n",
    "\n",
    "    elif i == J - 1:\n",
    "        δ_lower = df['δ'].iloc[i-1]\n",
    "        δ_higher = float('inf')\n",
    "        Δ_higher = float('inf')\n",
    "        \n",
    "        η[i,i] = - (u.pdf(Δ_higher) / (δ_higher - δ) + u.pdf(Δ) / (δ - δ_lower) )\n",
    "        own_price[i] = - (u.pdf(Δ_higher) / (δ_higher - δ) + u.pdf(Δ) / (δ - δ_lower) )\n",
    "    \n",
    "#Cross-price\n",
    "for i in range(J):\n",
    "    for j in range(J):\n",
    "        if j == i + 1:\n",
    "            δ = df['δ'].iloc[i]\n",
    "            if i < J - 1:\n",
    "                Δ_higher = df['Δ'].iloc[j]\n",
    "                δ_higher = df['δ'].iloc[j]\n",
    "                \n",
    "                η[i,j] = u.pdf(Δ_higher) / (δ_higher - δ)\n",
    "                \n",
    "            elif i == J - 1:\n",
    "                Δ_higher = float('inf')\n",
    "                δ_higher = float('inf')\n",
    "                \n",
    "                η[i,j] = u.pdf(Δ_higher) / (δ_higher - δ)\n",
    "            \n",
    "        elif j == i - 1:\n",
    "            δ = df['δ'].iloc[i]\n",
    "            Δ = df['Δ'].iloc[i]\n",
    "            \n",
    "            if i > 0:\n",
    "                δ_lower = df['δ'].iloc[j]\n",
    "                \n",
    "                η[i,j] = u.pdf(Δ) / (δ - δ_lower)\n",
    "                \n",
    "            elif i == 0:\n",
    "                δ_lower = 0 \n",
    "                \n",
    "                η[i,j] = u.pdf(Δ) / (δ - δ_lower)\n",
    "\n",
    "#Replace infinity values by really high numbers (otherwise the rest of the code crashes)\n",
    "η[η == -np.inf] = -10000\n",
    "η[η == np.inf] = 10000\n"
   ]
  },
  {
   "cell_type": "code",
   "execution_count": 12,
   "metadata": {},
   "outputs": [],
   "source": [
    "#Define ownership matrices\n",
    "\n",
    "#(i)Single product ownership -- equivalent to marginal cost pricing\n",
    "Ω_single = np.identity(J)\n",
    "\n",
    "#(ii)Nash Bargaining -- Firms set prices\n",
    "Ω_ne = np.identity(J)\n",
    "for i in range(J - 1):\n",
    "    if df['Firm'].iloc[i] == df['Firm'].iloc[i+1]:\n",
    "        Ω_ne[i,i+1] = 1\n",
    "    if df['Firm'].iloc[i] == df['Firm'].iloc[i-1]:\n",
    "        Ω_ne[i,i-1] = 1\n",
    "\n",
    "#(iii)Perfect collusion -- all products owned by the same firm\n",
    "Ω_collusion = np.identity(J)\n",
    "for i in range(J):\n",
    "    for j in range(J):\n",
    "        if i == j + 1:\n",
    "            Ω_collusion[i,j] = 1\n",
    "        if i == j - 1:\n",
    "            Ω_collusion[i,j] = 1\n",
    "            "
   ]
  },
  {
   "cell_type": "code",
   "execution_count": 13,
   "metadata": {},
   "outputs": [],
   "source": [
    "#Retrieve values from data-frame for marginal cost calculations\n",
    "p = df['Price'].values\n",
    "s = df['Share'].values"
   ]
  },
  {
   "cell_type": "code",
   "execution_count": 14,
   "metadata": {},
   "outputs": [],
   "source": [
    "#calculate marginal cost using each of the different ownership matrices\n",
    "mc_single = p + np.linalg.inv(Ω_single * η) @ s\n",
    "mc_collusion = p + np.linalg.inv(Ω_collusion * η) @ s\n",
    "#mc_ne = p + np.linalg.inv(Ω_ne * η) @ s = 0"
   ]
  },
  {
   "cell_type": "code",
   "execution_count": 15,
   "metadata": {},
   "outputs": [
    {
     "data": {
      "text/plain": [
       "[[0, 20000],\n",
       " [0, 20000],\n",
       " [0, 20000],\n",
       " [0, 20000],\n",
       " [0, 20000],\n",
       " [0, 20000],\n",
       " [0, 20000],\n",
       " [0, 20000],\n",
       " [0, 20000],\n",
       " [0, 20000],\n",
       " [0, 20000],\n",
       " [0, 20000],\n",
       " [0, 20000],\n",
       " [0, 20000],\n",
       " [0, 20000],\n",
       " [0, 20000],\n",
       " [0, 20000],\n",
       " [0, 20000],\n",
       " [0, 20000],\n",
       " [0, 20000],\n",
       " [0, 20000],\n",
       " [0, 20000],\n",
       " [0, 20000],\n",
       " [0, 20000],\n",
       " [0, 20000],\n",
       " [0, 20000],\n",
       " [0, 20000],\n",
       " [0, 20000],\n",
       " [0, 20000],\n",
       " [0, 20000],\n",
       " [0, 20000],\n",
       " [0, 20000],\n",
       " [0, 20000],\n",
       " [0, 20000],\n",
       " [0, 20000],\n",
       " [0, 20000],\n",
       " [0, 20000],\n",
       " [0, 20000],\n",
       " [0, 20000],\n",
       " [0, 20000],\n",
       " [0, 20000],\n",
       " [0, 20000],\n",
       " [0, 20000],\n",
       " [0, 20000],\n",
       " [0, 20000],\n",
       " [0, 20000],\n",
       " [0, 20000],\n",
       " [0, 20000],\n",
       " [0, 20000],\n",
       " [0, 20000],\n",
       " [0, 20000],\n",
       " [0, 20000],\n",
       " [0, 20000],\n",
       " [0, 20000],\n",
       " [0, 20000],\n",
       " [0, 20000],\n",
       " [0, 20000],\n",
       " [0, 20000],\n",
       " [0, 20000],\n",
       " [0, 20000],\n",
       " [0, 20000],\n",
       " [0, 20000],\n",
       " [0, 20000],\n",
       " [0, 20000],\n",
       " [0, 20000],\n",
       " [0, 20000],\n",
       " [0, 20000],\n",
       " [0, 20000],\n",
       " [0, 20000],\n",
       " [0, 20000],\n",
       " [0, 20000],\n",
       " [0, 20000],\n",
       " [0, 20000],\n",
       " [0, 20000],\n",
       " [0, 20000],\n",
       " [0, 20000],\n",
       " [0, 20000],\n",
       " [0, 20000],\n",
       " [0, 20000],\n",
       " [0, 20000],\n",
       " [0, 20000],\n",
       " [0, 20000],\n",
       " [0, 20000],\n",
       " [0, 20000],\n",
       " [0, 20000],\n",
       " [0, 20000],\n",
       " [0, 20000],\n",
       " [0, 20000],\n",
       " [0, 20000],\n",
       " [0, 20000],\n",
       " [0, 20000],\n",
       " [0, 20000],\n",
       " [0, 20000],\n",
       " [0, 20000],\n",
       " [0, 20000],\n",
       " [0, 20000],\n",
       " [0, 20000],\n",
       " [0, 20000],\n",
       " [0, 20000],\n",
       " [0, 20000],\n",
       " [0, 20000],\n",
       " [0, 20000],\n",
       " [0, 20000],\n",
       " [0, 20000],\n",
       " [0, 20000],\n",
       " [0, 20000],\n",
       " [0, 20000],\n",
       " [0, 20000],\n",
       " [0, 20000],\n",
       " [0, 20000],\n",
       " [0, 20000],\n",
       " [0, 20000],\n",
       " [0, 20000],\n",
       " [0, 20000],\n",
       " [0, 20000],\n",
       " [0, 20000],\n",
       " [0, 20000],\n",
       " [0, 20000],\n",
       " [0, 20000],\n",
       " [0, 20000],\n",
       " [0, 20000],\n",
       " [0, 20000],\n",
       " [0, 20000],\n",
       " [0, 20000],\n",
       " [0, 20000],\n",
       " [0, 20000],\n",
       " [0, 20000],\n",
       " [0, 20000],\n",
       " [0, 20000],\n",
       " [0, 20000],\n",
       " [0, 20000]]"
      ]
     },
     "execution_count": 15,
     "metadata": {},
     "output_type": "execute_result"
    }
   ],
   "source": [
    "bounds = [[0, 20000]] * J\n",
    "bounds"
   ]
  },
  {
   "cell_type": "code",
   "execution_count": 16,
   "metadata": {},
   "outputs": [],
   "source": [
    "#Marginal cost calculations do not work for nash equilibrium pricing because the matrix is singular\n",
    "mc_init = np.ones(J)\n",
    "    \n",
    "def mcfunc_norm(mc):\n",
    "    if mc.any() < 0:\n",
    "        return mc_init\n",
    "    if mc.all() > 0:\n",
    "        return np.linalg.norm(s + (Ω_ne * η) @ (p - mc))\n",
    "    \n",
    "def mcfunc(mc):\n",
    "    if mc.any() < 0:\n",
    "        return mc_init\n",
    "    if mc.all() > 0:\n",
    "        return s + (Ω_ne * η) @ (p - mc)\n",
    "    \n",
    "obj = fsolve(mcfunc, mc_init)\n",
    "\n",
    "results = minimize(mcfunc_norm, mc_init,\n",
    "                   tol=1e-10)\n"
   ]
  },
  {
   "cell_type": "code",
   "execution_count": 17,
   "metadata": {},
   "outputs": [],
   "source": [
    "mc_ne = results.x"
   ]
  },
  {
   "cell_type": "code",
   "execution_count": 18,
   "metadata": {
    "scrolled": true
   },
   "outputs": [
    {
     "data": {
      "text/plain": [
       "Air Conditioning   -1899.295326\n",
       "Weight of Car          4.785491\n",
       "Horsepower           -40.210518\n",
       "Quantity               0.002215\n",
       "dtype: float64"
      ]
     },
     "execution_count": 18,
     "metadata": {},
     "output_type": "execute_result"
    }
   ],
   "source": [
    "#Run the various regressions\n",
    "x = df[['Air Conditioning', 'Weight of Car', 'Horsepower', 'Quantity']]\n",
    "\n",
    "supply_single = sm.OLS(mc_single, x).fit()\n",
    "supply_ne = sm.OLS(mc_ne, x).fit()\n",
    "supply_collusion = sm.OLS(mc_collusion, x).fit()\n",
    "supply_ne.params"
   ]
  },
  {
   "cell_type": "code",
   "execution_count": 19,
   "metadata": {},
   "outputs": [],
   "source": [
    "#### Output regression results into table\n",
    "pystout(models=[supply_single, supply_ne, supply_collusion],\n",
    "        file='supply_models.tex',\n",
    "        digits=3,\n",
    "        endog_names=False,\n",
    "        exogvars=['Air Conditioning', 'Weight of Car', 'Horsepower','Quantity'],\n",
    "        stars=False,\n",
    "        modstat={'nobs':'Obs','rsquared_adj':'Adj. R\\sym{2}'}\n",
    "        )"
   ]
  },
  {
   "cell_type": "code",
   "execution_count": null,
   "metadata": {},
   "outputs": [],
   "source": []
  }
 ],
 "metadata": {
  "kernelspec": {
   "display_name": "Python 3",
   "language": "python",
   "name": "python3"
  },
  "language_info": {
   "codemirror_mode": {
    "name": "ipython",
    "version": 3
   },
   "file_extension": ".py",
   "mimetype": "text/x-python",
   "name": "python",
   "nbconvert_exporter": "python",
   "pygments_lexer": "ipython3",
   "version": "3.8.3"
  }
 },
 "nbformat": 4,
 "nbformat_minor": 4
}
