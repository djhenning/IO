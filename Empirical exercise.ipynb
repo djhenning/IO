{
 "cells": [
  {
   "cell_type": "markdown",
   "metadata": {},
   "source": [
    "### Assignment - IO"
   ]
  },
  {
   "cell_type": "code",
   "execution_count": 17,
   "metadata": {},
   "outputs": [],
   "source": [
    "import numpy as np\n",
    "import pandas as pd\n",
    "import statsmodels.api as sm\n",
    "import linearmodels as ln\n",
    "from statsmodels.sandbox.regression.gmm import IV2SLS\n",
    "from scipy.optimize import minimize\n",
    "from scipy import ndimage\n",
    "from pystout import pystout\n",
    "from tabulate import tabulate\n",
    "from scipy.stats import uniform"
   ]
  },
  {
   "cell_type": "code",
   "execution_count": 18,
   "metadata": {},
   "outputs": [],
   "source": [
    "df = pd.read_csv(\"autodata.csv\")\n",
    "df.rename(columns = {'Firm ID (there is a different number for each firm)':'Firm'}, inplace = True)\n",
    "df.rename(columns = {'Price($1000) (list price)':'Price'}, inplace = True)"
   ]
  },
  {
   "cell_type": "code",
   "execution_count": 19,
   "metadata": {},
   "outputs": [
    {
     "data": {
      "text/plain": [
       "array([ 3, 20,  7,  8, 19, 16, 18, 21,  2, 13, 22,  1,  4,  9, 10, 11,  5,\n",
       "        6, 23, 12], dtype=int64)"
      ]
     },
     "execution_count": 19,
     "metadata": {},
     "output_type": "execute_result"
    }
   ],
   "source": [
    "pd.unique(df['Firm'])"
   ]
  },
  {
   "cell_type": "code",
   "execution_count": 20,
   "metadata": {},
   "outputs": [],
   "source": [
    "#Calculate shares\n",
    "s0 = 0.6 #Set outside good share\n",
    "df['Total q'] = df['Quantity'].sum()\n",
    "df['Share'] = df['Quantity'] / df['Total q'] * (1 - s0)"
   ]
  },
  {
   "cell_type": "code",
   "execution_count": 21,
   "metadata": {},
   "outputs": [],
   "source": [
    "#Add outside good:\n",
    "outside = {'Name':'outside', 'Air Conditioning':0, 'Horsepower':0, 'Weight of Car':0, 'Price':0, 'Quantity':0, 'Share':s0}\n",
    "df = df.append(outside, ignore_index=True)"
   ]
  },
  {
   "cell_type": "code",
   "execution_count": 22,
   "metadata": {},
   "outputs": [],
   "source": [
    "#And sort data\n",
    "df.sort_values(by=['Price'], ascending = False, inplace=True) #Sort dataset\n",
    "df.reset_index(inplace = True)"
   ]
  },
  {
   "cell_type": "code",
   "execution_count": 23,
   "metadata": {},
   "outputs": [],
   "source": [
    "#Calculate thresholds\n",
    "sN = df['Share'].iloc[0]\n",
    "#General formatof inverse of Uniform cdf: F(p) = a + p(b - a)\n",
    "#If we assume a = 0 and b = 1\n",
    "#We will always maintain a = 0 (idea: lowest possible taste for quality is not caring)\n",
    "b = 10\n",
    "df['Δ'] = uniform.ppf(1 - sN)\n",
    "\n",
    "for i, r in df.iloc[1:].iterrows():\n",
    "    Δ_previous = df['Δ'].iloc[i-1]\n",
    "    s = df['Share'].iloc[i]\n",
    "    \n",
    "    df['Δ'].iloc[i] = uniform.ppf(uniform.cdf(Δ_previous) - s)"
   ]
  },
  {
   "cell_type": "code",
   "execution_count": 24,
   "metadata": {},
   "outputs": [],
   "source": [
    "#Resort in opposite way to get quality\n",
    "df.sort_values(by=['Price'], inplace=True) #Sort dataset\n",
    "df.reset_index(inplace = True)"
   ]
  },
  {
   "cell_type": "code",
   "execution_count": 25,
   "metadata": {},
   "outputs": [],
   "source": [
    "#Calculate implied quality levels\n",
    "df['δ'] = 0\n",
    "\n",
    "for i, r in df.iloc[1:].iterrows():\n",
    "    δ_previous = df['δ'].iloc[i-1]\n",
    "    p_previous = df['Price'].iloc[i-1]\n",
    "    p = df['Price'].iloc[i]\n",
    "    Δ = df['Δ'].iloc[i]\n",
    "    \n",
    "    df['δ'].iloc[i] = δ_previous + (p - p_previous) / Δ"
   ]
  },
  {
   "cell_type": "code",
   "execution_count": 26,
   "metadata": {},
   "outputs": [],
   "source": [
    "# Run OLS regression\n",
    "x = df[['Air Conditioning', 'Weight of Car', 'Horsepower']]\n",
    "y = df['δ']\n",
    "model1 = sm.OLS(y, x).fit()\n",
    "model1_α = model1.params"
   ]
  },
  {
   "cell_type": "code",
   "execution_count": 27,
   "metadata": {},
   "outputs": [],
   "source": [
    "pystout(models=[model1],\n",
    "        file='OLS_demand.tex',\n",
    "        digits=3,\n",
    "        endog_names=False,\n",
    "        exogvars=['Air Conditioning', 'Weight of Car', 'Horsepower'],\n",
    "        stars=False,\n",
    "        modstat={'nobs':'Obs','rsquared_adj':'Adj. R\\sym{2}'}\n",
    "        )"
   ]
  },
  {
   "cell_type": "code",
   "execution_count": 28,
   "metadata": {},
   "outputs": [],
   "source": [
    "#Estimate parameters under marginal cost pricing\n",
    "x = df[['Air Conditioning', 'Weight of Car', 'Horsepower', 'Quantity']]\n",
    "y = df['Price']\n",
    "supply1 = sm.OLS(y, x).fit()"
   ]
  },
  {
   "cell_type": "code",
   "execution_count": 13,
   "metadata": {},
   "outputs": [
    {
     "name": "stderr",
     "output_type": "stream",
     "text": [
      "<ipython-input-13-4b9e37bf8732>:17: RuntimeWarning: divide by zero encountered in double_scalars\n",
      "  df['mc NE'].iloc[i] = p - s / (f / (δ_higher - δ) + f / (δ - δ_lower) )\n"
     ]
    }
   ],
   "source": [
    "#Estimate parameters under firms setting prices in a NE\n",
    "df['partials'] = 0\n",
    "N = df.shape[0]\n",
    "\n",
    "for i, r in df.iloc[1:].iterrows():\n",
    "    p = df['Price'].iloc[i]\n",
    "    s = df['Share'].iloc[i]\n",
    "    δ = df['δ'].iloc[i]\n",
    "    δ_lower = df['δ'].iloc[i-1]\n",
    "    f = 1 / b\n",
    "    \n",
    "    if i < N -2:\n",
    "        δ_higher = df['δ'].iloc[i+1]\n",
    "    else:\n",
    "        δ_higher = float('inf')\n",
    "    \n",
    "    df['partials'].iloc[i] = p - s / (f / (δ_higher - δ) + f / (δ - δ_lower) )"
   ]
  },
  {
   "cell_type": "code",
   "execution_count": 14,
   "metadata": {},
   "outputs": [],
   "source": [
    "x = df[['Air Conditioning', 'Weight of Car', 'Horsepower', 'Quantity']]\n",
    "y = df['mc NE']\n",
    "supply2 = sm.OLS(y, x).fit()"
   ]
  },
  {
   "cell_type": "code",
   "execution_count": 15,
   "metadata": {},
   "outputs": [],
   "source": [
    "pystout(models=[supply1, supply2],\n",
    "        file='supply.tex',\n",
    "        digits=3,\n",
    "        endog_names=False,\n",
    "        exogvars=['Air Conditioning', 'Weight of Car', 'Horsepower', 'Quantity'],\n",
    "        stars=False,\n",
    "        modstat={'nobs':'Obs','rsquared_adj':'Adj. R\\sym{2}'}\n",
    "        )"
   ]
  }
 ],
 "metadata": {
  "kernelspec": {
   "display_name": "Python 3",
   "language": "python",
   "name": "python3"
  },
  "language_info": {
   "codemirror_mode": {
    "name": "ipython",
    "version": 3
   },
   "file_extension": ".py",
   "mimetype": "text/x-python",
   "name": "python",
   "nbconvert_exporter": "python",
   "pygments_lexer": "ipython3",
   "version": "3.8.3"
  }
 },
 "nbformat": 4,
 "nbformat_minor": 4
}
