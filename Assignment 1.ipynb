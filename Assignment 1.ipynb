{
 "cells": [
  {
   "cell_type": "markdown",
   "metadata": {},
   "source": [
    "## Assignment 1 - IO"
   ]
  },
  {
   "cell_type": "markdown",
   "metadata": {},
   "source": [
    "Author: David Henning (worked with Natasha Watkinga, Chandni Raja and Jonathan Kowarski)"
   ]
  },
  {
   "cell_type": "code",
   "execution_count": 1,
   "metadata": {},
   "outputs": [],
   "source": [
    "import numpy as np\n",
    "import pandas as pd\n",
    "from statsmodels.api import OLS, tsa\n",
    "from statsmodels.sandbox.regression.gmm import IV2SLS"
   ]
  },
  {
   "cell_type": "code",
   "execution_count": 2,
   "metadata": {},
   "outputs": [
    {
     "data": {
      "text/html": [
       "<div>\n",
       "<style scoped>\n",
       "    .dataframe tbody tr th:only-of-type {\n",
       "        vertical-align: middle;\n",
       "    }\n",
       "\n",
       "    .dataframe tbody tr th {\n",
       "        vertical-align: top;\n",
       "    }\n",
       "\n",
       "    .dataframe thead th {\n",
       "        text-align: right;\n",
       "    }\n",
       "</style>\n",
       "<table border=\"1\" class=\"dataframe\">\n",
       "  <thead>\n",
       "    <tr style=\"text-align: right;\">\n",
       "      <th></th>\n",
       "      <th>store</th>\n",
       "      <th>week</th>\n",
       "      <th>brand</th>\n",
       "      <th>sales_</th>\n",
       "      <th>count</th>\n",
       "      <th>price_</th>\n",
       "      <th>prom_</th>\n",
       "      <th>cost_</th>\n",
       "    </tr>\n",
       "  </thead>\n",
       "  <tbody>\n",
       "  </tbody>\n",
       "</table>\n",
       "</div>"
      ],
      "text/plain": [
       "Empty DataFrame\n",
       "Columns: [store, week, brand, sales_, count, price_, prom_, cost_]\n",
       "Index: []"
      ]
     },
     "execution_count": 2,
     "metadata": {},
     "output_type": "execute_result"
    }
   ],
   "source": [
    "d = pd.read_csv(\"PS1_Data/OTC_Data.csv\", sep='\\t')\n",
    "d[d.duplicated(subset=['store', 'week', 'brand'], keep=False)] # No duplicates at store-week-brand level"
   ]
  },
  {
   "cell_type": "code",
   "execution_count": 3,
   "metadata": {},
   "outputs": [],
   "source": [
    "d_demographic = pd.read_csv(\"PS1_Data/OTCDemographics.csv\", sep='\\t')"
   ]
  },
  {
   "cell_type": "code",
   "execution_count": 4,
   "metadata": {},
   "outputs": [],
   "source": [
    "d.sort_values(by=['store', 'week', 'brand'], inplace=True)"
   ]
  },
  {
   "cell_type": "code",
   "execution_count": 5,
   "metadata": {},
   "outputs": [],
   "source": [
    "#Try to reproduce summary stat table from the problem set\n",
    "d['revenue'] = d['sales_'] * d['price_']\n",
    "d['revenue_brand'] = d.groupby(['brand'])['revenue'].transform('sum')\n",
    "d['sales_brand'] = d.groupby(['brand'])['sales_'].transform('sum')\n",
    "d['price_brand'] = d.groupby(['brand'])['price_'].transform('mean')\n",
    "d['cost_brand'] = d.groupby(['brand'])['cost_'].transform('mean')\n",
    "d['branded'] = d['brand']\n",
    "d.loc[d['branded'] <= 9, 'branded'] = 1\n",
    "d.loc[d['branded'] > 9, 'branded'] = 0\n",
    "d_summary = d[['brand', 'revenue_brand', 'sales_brand', 'price_brand', 'cost_brand']]\n",
    "d_summary = d_summary[:11]\n",
    "d_summary['revenue_tot'] = d_summary['revenue_brand'].sum()\n",
    "d_summary['share'] = d_summary['revenue_brand'] / d_summary['revenue_tot'] * 0.62"
   ]
  },
  {
   "cell_type": "code",
   "execution_count": 6,
   "metadata": {},
   "outputs": [],
   "source": [
    "d_instruments = pd.read_csv(\"PS1_Data/OTCDataInstruments.csv\", sep='\\t')"
   ]
  },
  {
   "cell_type": "markdown",
   "metadata": {},
   "source": [
    "### Problem 1"
   ]
  },
  {
   "cell_type": "markdown",
   "metadata": {},
   "source": [
    "Consider utility function for good $j$ in store-week $t$ for consumer $i$:\n",
    "    $$ u_{ijt} = X_{jt}\\beta + \\alpha p_{jt} + \\xi_{jt} + \\epsilon_{jt} $$\n",
    "   "
   ]
  },
  {
   "cell_type": "markdown",
   "metadata": {},
   "source": [
    "###### (1) Estimate this model using OLS with price and promotion as product characteristics"
   ]
  },
  {
   "cell_type": "code",
   "execution_count": 7,
   "metadata": {},
   "outputs": [
    {
     "name": "stderr",
     "output_type": "stream",
     "text": [
      "<ipython-input-7-2521c2f842fd>:3: SettingWithCopyWarning: \n",
      "A value is trying to be set on a copy of a slice from a DataFrame.\n",
      "Try using .loc[row_indexer,col_indexer] = value instead\n",
      "\n",
      "See the caveats in the documentation: https://pandas.pydata.org/pandas-docs/stable/user_guide/indexing.html#returning-a-view-versus-a-copy\n",
      "  df['sales_store_week'] = df.groupby(['store', 'week'])['sales_'].transform('sum')\n",
      "<ipython-input-7-2521c2f842fd>:4: SettingWithCopyWarning: \n",
      "A value is trying to be set on a copy of a slice from a DataFrame.\n",
      "Try using .loc[row_indexer,col_indexer] = value instead\n",
      "\n",
      "See the caveats in the documentation: https://pandas.pydata.org/pandas-docs/stable/user_guide/indexing.html#returning-a-view-versus-a-copy\n",
      "  df['s'] = df['sales_'] / df['sales_store_week'] * 0.62 # All of the brands have a total market share of 62%\n"
     ]
    }
   ],
   "source": [
    "# calculate the shares\n",
    "df = d[['store', 'week', 'brand', 'prom_', 'price_', 'cost_', 'sales_']]\n",
    "df['sales_store_week'] = df.groupby(['store', 'week'])['sales_'].transform('sum')\n",
    "df['s'] = df['sales_'] / df['sales_store_week'] * 0.62 # All of the brands have a total market share of 62%"
   ]
  },
  {
   "cell_type": "code",
   "execution_count": 8,
   "metadata": {},
   "outputs": [
    {
     "name": "stderr",
     "output_type": "stream",
     "text": [
      "<ipython-input-8-1cb6825e2c25>:3: SettingWithCopyWarning: \n",
      "A value is trying to be set on a copy of a slice from a DataFrame.\n",
      "Try using .loc[row_indexer,col_indexer] = value instead\n",
      "\n",
      "See the caveats in the documentation: https://pandas.pydata.org/pandas-docs/stable/user_guide/indexing.html#returning-a-view-versus-a-copy\n",
      "  df['δ'] = np.log(df['s']) - np.log(s_0)\n",
      "<ipython-input-8-1cb6825e2c25>:4: SettingWithCopyWarning: \n",
      "A value is trying to be set on a copy of a slice from a DataFrame.\n",
      "Try using .loc[row_indexer,col_indexer] = value instead\n",
      "\n",
      "See the caveats in the documentation: https://pandas.pydata.org/pandas-docs/stable/user_guide/indexing.html#returning-a-view-versus-a-copy\n",
      "  df['constant'] = 1\n"
     ]
    }
   ],
   "source": [
    "# Transform variables for regression, recall outside options share is 0.38\n",
    "s_0 = 0.38\n",
    "df['δ'] = np.log(df['s']) - np.log(s_0)\n",
    "df['constant'] = 1"
   ]
  },
  {
   "cell_type": "code",
   "execution_count": 9,
   "metadata": {},
   "outputs": [],
   "source": [
    "# Run OLS regression\n",
    "x = df.drop(['δ', 'store', 'week', 'brand',  'cost_', 'sales_', 'sales_store_week', 's',], 1)\n",
    "y = df['δ']\n",
    "results1 = OLS(y, x).fit()\n",
    "model1_α = results1.params['price_']\n",
    "#print(results2.summary())"
   ]
  },
  {
   "cell_type": "markdown",
   "metadata": {},
   "source": [
    "###### (2) Estimate this model using OLS with price and promotion as product characteristics and brand dummies"
   ]
  },
  {
   "cell_type": "code",
   "execution_count": 10,
   "metadata": {},
   "outputs": [],
   "source": [
    "#Add dummies to dataframe\n",
    "b_dummies = pd.get_dummies(df['brand'])\n",
    "df_dummies = df.merge(b_dummies, left_index = True, right_index = True)"
   ]
  },
  {
   "cell_type": "code",
   "execution_count": 11,
   "metadata": {},
   "outputs": [],
   "source": [
    "x = df_dummies.drop(['δ', 'store', 'week', 'brand',  'cost_', 'sales_', 'sales_store_week', 's',], 1)\n",
    "y = df_dummies['δ']\n",
    "results2 = OLS(y, x).fit()\n",
    "model2_α = results2.params['price_']\n",
    "#print(results2.summary())"
   ]
  },
  {
   "cell_type": "markdown",
   "metadata": {},
   "source": [
    "###### (3) Estimate this model using OLS with price and promotion as product characteristics and store-brand dummies"
   ]
  },
  {
   "cell_type": "code",
   "execution_count": 12,
   "metadata": {},
   "outputs": [],
   "source": [
    "store_brand = df['store'].astype('str') + '_' + df['brand'].astype('str') \n",
    "bs_dummies = pd.get_dummies(store_brand)\n",
    "df_bsdummies = df.merge(bs_dummies, left_index = True, right_index = True)"
   ]
  },
  {
   "cell_type": "code",
   "execution_count": 13,
   "metadata": {},
   "outputs": [],
   "source": [
    "x = df_bsdummies.drop(['δ', 'store', 's', 'brand', 'week', 'cost_', 'sales_', 'sales_store_week'], 1)\n",
    "y = df_bsdummies['δ']"
   ]
  },
  {
   "cell_type": "code",
   "execution_count": 14,
   "metadata": {},
   "outputs": [],
   "source": [
    "results3 = OLS(y, x).fit()\n",
    "model3_α = results3.params['price_']\n",
    "#print(results3.summary())"
   ]
  },
  {
   "cell_type": "markdown",
   "metadata": {},
   "source": [
    "###### (4) Estimate the models of 1, 2 and 3 using wholesale cost as an instrument."
   ]
  },
  {
   "cell_type": "code",
   "execution_count": 15,
   "metadata": {},
   "outputs": [],
   "source": [
    "# Run IV regression for first problem\n",
    "x = df.drop(['δ', 'store', 'week', 'brand',  'cost_', 'sales_', 'sales_store_week', 's',], 1)\n",
    "z = df.drop(['δ', 'store', 'week', 'brand', 'sales_', 'price_', 'sales_store_week', 's',], 1)\n",
    "y = df['δ']\n",
    "results4 = IV2SLS(y, x, instrument=z).fit()\n",
    "#print(results4.summary())"
   ]
  },
  {
   "cell_type": "code",
   "execution_count": 16,
   "metadata": {},
   "outputs": [],
   "source": [
    "# Run IV regression for second problem\n",
    "x = df_dummies.drop(['δ', 'store', 'week', 'brand',  'cost_', 'sales_', 'sales_store_week', 's',], 1)\n",
    "z = df_dummies.drop(['δ', 'store', 'week', 'brand', 'sales_', 'price_', 'sales_store_week', 's',], 1)\n",
    "y = df['δ']\n",
    "results4 = IV2SLS(y, x, z).fit()\n",
    "#print(results4.summary())"
   ]
  },
  {
   "cell_type": "code",
   "execution_count": 17,
   "metadata": {},
   "outputs": [],
   "source": [
    "# Run IV regression for third problem\n",
    "x = df_bsdummies.drop(['δ', 'store', 'week', 'brand',  'cost_', 'sales_', 'sales_store_week', 's',], 1)\n",
    "z = df_bsdummies.drop(['δ', 'store', 'week', 'brand', 'price_', 'sales_', 'sales_store_week', 's',], 1)\n",
    "y = df['δ']\n",
    "results4 = IV2SLS(y, x, z).fit()\n",
    "#print(results4.summary())"
   ]
  },
  {
   "cell_type": "markdown",
   "metadata": {},
   "source": [
    "###### (5) Estimate the models of 1, 2 and 3 using the Hausman instrument (average price in other markets)."
   ]
  },
  {
   "cell_type": "code",
   "execution_count": 18,
   "metadata": {},
   "outputs": [
    {
     "name": "stderr",
     "output_type": "stream",
     "text": [
      "<ipython-input-18-3314831a76a0>:5: SettingWithCopyWarning: \n",
      "A value is trying to be set on a copy of a slice from a DataFrame.\n",
      "Try using .loc[row_indexer,col_indexer] = value instead\n",
      "\n",
      "See the caveats in the documentation: https://pandas.pydata.org/pandas-docs/stable/user_guide/indexing.html#returning-a-view-versus-a-copy\n",
      "  df['price_iv'] = (mean*n - df['price_'])/(n-1)\n",
      "<ipython-input-18-3314831a76a0>:8: SettingWithCopyWarning: \n",
      "A value is trying to be set on a copy of a slice from a DataFrame\n",
      "\n",
      "See the caveats in the documentation: https://pandas.pydata.org/pandas-docs/stable/user_guide/indexing.html#returning-a-view-versus-a-copy\n",
      "  df.sort_values(by=['brand', 'week', 'store'], inplace=True)\n"
     ]
    }
   ],
   "source": [
    "#Calculate hausman instrument, and add to all the datasets\n",
    "grouped = df.groupby(['brand', 'week'])\n",
    "n = grouped['price_'].transform('count')\n",
    "mean = grouped['price_'].transform('mean')\n",
    "df['price_iv'] = (mean*n - df['price_'])/(n-1)\n",
    "df_dummies['price_iv'] = (mean*n - df['price_'])/(n-1)\n",
    "df_bsdummies['price_iv'] = (mean*n - df['price_'])/(n-1)\n",
    "df.sort_values(by=['brand', 'week', 'store'], inplace=True)"
   ]
  },
  {
   "cell_type": "code",
   "execution_count": 19,
   "metadata": {},
   "outputs": [],
   "source": [
    "#Run the IV with  the Hausman instrument for (1)\n",
    "x = df.drop(['δ', 'store', 'week', 'brand',  'cost_', 'price_iv', 'sales_', 'sales_store_week', 's',], 1)\n",
    "z = df.drop(['δ', 'store', 'week', 'brand',  'cost_', 'price_', 'sales_', 'sales_store_week', 's',], 1)\n",
    "y = df['δ']\n",
    "results5 = IV2SLS(y, x, z).fit()\n",
    "#print(results5.summary())"
   ]
  },
  {
   "cell_type": "code",
   "execution_count": 20,
   "metadata": {},
   "outputs": [],
   "source": [
    "#Run the IV with  the Hausman instrument for (2)\n",
    "x = df_dummies.drop(['δ', 'store', 'week', 'brand',  'cost_', 'price_iv', 'sales_', 'sales_store_week', 's',], 1)\n",
    "z = df_dummies.drop(['δ', 'store', 'week', 'brand',  'cost_', 'price_', 'sales_', 'sales_store_week', 's',], 1)\n",
    "y = df_dummies['δ']\n",
    "results5 = IV2SLS(y, x, z).fit()\n",
    "#print(results5.summary())"
   ]
  },
  {
   "cell_type": "code",
   "execution_count": 21,
   "metadata": {},
   "outputs": [],
   "source": [
    "#Run the IV with  the Hausman instrument for (3)\n",
    "x = df_bsdummies.drop(['δ', 'store', 'week', 'brand',  'cost_', 'price_iv', 'sales_', 'sales_store_week', 's',], 1)\n",
    "z = df_bsdummies.drop(['δ', 'store', 'week', 'brand',  'cost_', 'price_', 'sales_', 'sales_store_week', 's',], 1)\n",
    "y = df_bsdummies['δ']\n",
    "results5 = IV2SLS(y, x, z).fit()\n",
    "#print(results5.summary())"
   ]
  },
  {
   "cell_type": "markdown",
   "metadata": {},
   "source": [
    "###### (6) Using the analytic formula for elasticity of the logit model, compute the mean own-price elasticities for all brand in the market using the estimates in 1, 2 and 3. Do these results make sense?"
   ]
  },
  {
   "cell_type": "code",
   "execution_count": 22,
   "metadata": {
    "scrolled": true
   },
   "outputs": [],
   "source": [
    "d_summary['model1_η'] = -model1_α * d_summary['price_brand'] * (1 - d_summary['share'])\n",
    "d_summary['model2_η'] = -model2_α * d_summary['price_brand'] * (1 - d_summary['share'])\n",
    "d_summary['model3_η'] = -model3_α * d_summary['price_brand'] * (1 - d_summary['share'])\n",
    "#d_summary"
   ]
  },
  {
   "cell_type": "markdown",
   "metadata": {},
   "source": [
    "## Problem 2"
   ]
  },
  {
   "cell_type": "markdown",
   "metadata": {},
   "source": [
    "Consider utility function for good $j$ in store-week $t$ for consumer $i$:\n",
    "    $$ u_{ijt} = X_{jt}\\beta + \\beta_{ib}B_{jt}\\text{(Branded Product)} + \\alpha_i p_{jt} + \\xi_{jt} + \\epsilon_{ijt} $$\n",
    "Where:\n",
    "$$\\beta_{ib} = \\sigma_B\\nu_i$$\n",
    "$$\\alpha_i = \\alpha + \\sigma_I I_i$$\n",
    "\n",
    "Hence $$ u_{ijt} = X_{jt}\\beta + \\sigma_B\\nu_iB_{jt}\\text{(Branded Product)} + (\\alpha + \\sigma_I I_i) p_{jt} + \\xi_{jt} + \\epsilon_{ijt} $$\n",
    "\n",
    "Or, rearranging $$ u_{ijt} = X_{jt}\\beta + \\alpha p_{jt} + \\xi_{jt} + \\sigma_B\\nu_iB_{jt}\\text{(Branded Product)} + \\sigma_I I_i p_{jt} + \\epsilon_{ijt} $$\n"
   ]
  },
  {
   "cell_type": "code",
   "execution_count": 23,
   "metadata": {},
   "outputs": [
    {
     "ename": "NameError",
     "evalue": "name 'ns' is not defined",
     "output_type": "error",
     "traceback": [
      "\u001b[1;31m---------------------------------------------------------------------------\u001b[0m",
      "\u001b[1;31mNameError\u001b[0m                                 Traceback (most recent call last)",
      "\u001b[1;32m<ipython-input-23-72fa71bc29d8>\u001b[0m in \u001b[0;36m<module>\u001b[1;34m\u001b[0m\n\u001b[0;32m      2\u001b[0m \u001b[1;33m\u001b[0m\u001b[0m\n\u001b[0;32m      3\u001b[0m \u001b[0mnp\u001b[0m\u001b[1;33m.\u001b[0m\u001b[0mrandom\u001b[0m\u001b[1;33m.\u001b[0m\u001b[0mseed\u001b[0m\u001b[1;33m(\u001b[0m\u001b[1;36m1\u001b[0m\u001b[1;33m)\u001b[0m\u001b[1;33m\u001b[0m\u001b[1;33m\u001b[0m\u001b[0m\n\u001b[1;32m----> 4\u001b[1;33m \u001b[0mη\u001b[0m \u001b[1;33m=\u001b[0m \u001b[0mnp\u001b[0m\u001b[1;33m.\u001b[0m\u001b[0mrandom\u001b[0m\u001b[1;33m.\u001b[0m\u001b[0mnormal\u001b[0m\u001b[1;33m(\u001b[0m\u001b[0mscale\u001b[0m\u001b[1;33m=\u001b[0m\u001b[1;36m1\u001b[0m\u001b[1;33m,\u001b[0m \u001b[0msize\u001b[0m\u001b[1;33m=\u001b[0m\u001b[0mns\u001b[0m\u001b[1;33m)\u001b[0m\u001b[1;33m\u001b[0m\u001b[1;33m\u001b[0m\u001b[0m\n\u001b[0m\u001b[0;32m      5\u001b[0m \u001b[1;33m\u001b[0m\u001b[0m\n\u001b[0;32m      6\u001b[0m \u001b[1;31m#Put everything into arrays\u001b[0m\u001b[1;33m\u001b[0m\u001b[1;33m\u001b[0m\u001b[1;33m\u001b[0m\u001b[0m\n",
      "\u001b[1;31mNameError\u001b[0m: name 'ns' is not defined"
     ]
    }
   ],
   "source": [
    "d_blp = pd.merge(d, d_demographic)\n",
    "\n",
    "np.random.seed(1)\n",
    "η = np.random.normal(scale=1, size=ns) \n",
    "\n",
    "#Put everything into arrays\n",
    "X = d['prom_']\n",
    "X['constant'] = 1\n",
    "X = X.values\n",
    "p = d['price_']\n",
    "B = d['branded']\n",
    "I = d_blp.iloc[:, d_blp.columns.str.startswith('hhincome')].values\n",
    "\n",
    "#Setting the frequencies\n",
    "ns = I.shape[1]\n",
    "\n",
    "#Starting values for parameters\n",
    "β = 0.01\n",
    "α = 0.01\n",
    "σ_B = 0.01\n",
    "σ_I = 0.01\n",
    "#ξ = 0.01\n",
    "I\n",
    "s_hat = np.zeros(I.shape[0])\n",
    "s_hat\n",
    "ns"
   ]
  },
  {
   "cell_type": "code",
   "execution_count": null,
   "metadata": {},
   "outputs": [],
   "source": [
    "#Calculate predicted shares\n",
    "for i in range(1, ns):\n",
    "    d_blp['numerator'] = α * d_blp['price_'] + σ_B * η[i-1] * d_blp['branded'] + σ_I * d_blp['hhincome' + str(i)] * d_blp['price_']\n",
    "    denominator =  d_blp.groupby(['store', 'week'])['numerator'].transform('sum') + 1\n",
    "    numerator = d_blp['numerator'] \n",
    "    s_hat += numerator / denominator * (1/ns)\n",
    "\n",
    "d_blp['s_hat'] = s_hat\n",
    "s_hat"
   ]
  },
  {
   "cell_type": "code",
   "execution_count": null,
   "metadata": {},
   "outputs": [],
   "source": []
  }
 ],
 "metadata": {
  "kernelspec": {
   "display_name": "Python 3",
   "language": "python",
   "name": "python3"
  },
  "language_info": {
   "codemirror_mode": {
    "name": "ipython",
    "version": 3
   },
   "file_extension": ".py",
   "mimetype": "text/x-python",
   "name": "python",
   "nbconvert_exporter": "python",
   "pygments_lexer": "ipython3",
   "version": "3.8.3"
  }
 },
 "nbformat": 4,
 "nbformat_minor": 4
}
