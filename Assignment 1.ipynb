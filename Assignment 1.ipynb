{
 "cells": [
  {
   "cell_type": "markdown",
   "metadata": {},
   "source": [
    "## Assignment 1 - IO"
   ]
  },
  {
   "cell_type": "markdown",
   "metadata": {},
   "source": [
    "Author: David Henning (worked with Natasha Watkins, Chandni Raja and Jonathan Kowarski)"
   ]
  },
  {
   "cell_type": "code",
   "execution_count": 1,
   "metadata": {},
   "outputs": [],
   "source": [
    "import numpy as np\n",
    "import pandas as pd\n",
    "import statsmodels.api as sm\n",
    "from statsmodels.sandbox.regression.gmm import IV2SLS\n",
    "from scipy.optimize import minimize\n",
    "from scipy import ndimage\n",
    "from pystout import pystout\n",
    "from tabulate import tabulate"
   ]
  },
  {
   "cell_type": "code",
   "execution_count": 45,
   "metadata": {},
   "outputs": [],
   "source": [
    "d = pd.read_csv(\"PS1_Data/OTC_Data.csv\", sep='\\t')\n",
    "d.columns = d.columns.str.replace('_', '')\n",
    "\n",
    "#Add branded dummy to the dataset\n",
    "d['branded'] = d['brand']\n",
    "d.loc[d['branded'] <= 9, 'branded'] = 1\n",
    "d.loc[d['branded'] > 9, 'branded'] = 0\n",
    "\n",
    "#Add name and size to the dataset\n",
    "d['name'] = None\n",
    "d.loc[d.brand.isin([1, 2, 3]), 'name'] = 'Tylenol'\n",
    "d.loc[d.brand.isin([4, 5, 6]), 'name'] = 'Advil'\n",
    "d.loc[d.brand.isin([7, 8, 9]), 'name'] = 'Bayer'\n",
    "d.loc[d.brand.isin([10, 11]), 'name'] = 'Store brand'\n",
    "d['size'] = None\n",
    "d.loc[d.brand.isin([1, 4, 7]), 'size'] = 25\n",
    "d.loc[d.brand.isin([2, 5, 8, 10]), 'size'] = 50\n",
    "d.loc[d.brand.isin([3, 6, 9, 11]), 'size'] = 100"
   ]
  },
  {
   "cell_type": "code",
   "execution_count": 46,
   "metadata": {},
   "outputs": [],
   "source": [
    "d_demographic = pd.read_csv(\"PS1_Data/OTCDemographics.csv\", sep='\\t')\n",
    "d_demographic.columns = d_demographic.columns.str.replace('_', '')"
   ]
  },
  {
   "cell_type": "code",
   "execution_count": 47,
   "metadata": {},
   "outputs": [],
   "source": [
    "instruments = pd.read_csv(\"PS1_Data/OTCDataInstruments.csv\", sep='\\t')\n",
    "instruments.columns = instruments.columns.str.replace('_', '')"
   ]
  },
  {
   "cell_type": "code",
   "execution_count": 48,
   "metadata": {},
   "outputs": [],
   "source": [
    "d.sort_values(by=['store', 'week', 'brand'], inplace=True) #Sort dataset"
   ]
  },
  {
   "cell_type": "code",
   "execution_count": 49,
   "metadata": {},
   "outputs": [],
   "source": [
    "#Try to reproduce summary stat table from the problem set\n",
    "d_summary = d.copy()\n",
    "d_summary['sales_store_week'] = d_summary.groupby(['store', 'week'])['sales'].transform('sum')\n",
    "d_summary['share'] = d_summary['sales'] / d_summary['sales_store_week'] * 0.62\n",
    "d_summary['price_brand'] = d_summary.groupby(['brand'])['price'].transform('mean')\n",
    "d_summary['cost_brand'] = d_summary.groupby(['brand'])['cost'].transform('mean')\n",
    "d_summary['share_brand'] = d_summary.groupby(['brand'])['share'].transform('mean')\n",
    "d_summary = d_summary[['name', 'size', 'brand', 'share_brand', 'price_brand', 'cost_brand']]\n",
    "d_summary = d_summary[:11]"
   ]
  },
  {
   "cell_type": "markdown",
   "metadata": {},
   "source": [
    "### Problem 1"
   ]
  },
  {
   "cell_type": "markdown",
   "metadata": {},
   "source": [
    "Consider utility function for good $j$ in store-week $t$ for consumer $i$:\n",
    "    $$ u_{ijt} = X_{jt}\\beta + \\alpha p_{jt} + \\xi_{jt} + \\epsilon_{jt} $$\n",
    "   "
   ]
  },
  {
   "cell_type": "markdown",
   "metadata": {},
   "source": [
    "###### (1) Estimate this model using OLS with price and promotion as product characteristics"
   ]
  },
  {
   "cell_type": "code",
   "execution_count": 50,
   "metadata": {},
   "outputs": [],
   "source": [
    "# calculate the shares\n",
    "df = d[['store', 'week', 'brand', 'prom', 'price', 'cost', 'sales']].copy()\n",
    "df['sales_store_week'] = df.groupby(['store', 'week'])['sales'].transform('sum')\n",
    "df['s'] = df['sales'] / df['sales_store_week'] * 0.62 # All of the brands have a total market share of 62%"
   ]
  },
  {
   "cell_type": "code",
   "execution_count": 51,
   "metadata": {},
   "outputs": [],
   "source": [
    "# Transform variables for regression, recall outside options share is 0.38\n",
    "s_o = 0.38\n",
    "df['δ'] = np.log(df['s']) - np.log(s_o)\n",
    "df['constant'] = 1"
   ]
  },
  {
   "cell_type": "code",
   "execution_count": 52,
   "metadata": {},
   "outputs": [],
   "source": [
    "# Run OLS regression\n",
    "x = df.drop(['δ', 'store', 'week', 'brand',  'cost', 'sales', 'sales_store_week', 's',], 1)\n",
    "y = df['δ']\n",
    "model1 = sm.OLS(y, x).fit()\n",
    "model1_α = model1.params['price']"
   ]
  },
  {
   "cell_type": "markdown",
   "metadata": {},
   "source": [
    "###### (2) Estimate this model using OLS with price and promotion as product characteristics and brand dummies"
   ]
  },
  {
   "cell_type": "code",
   "execution_count": 53,
   "metadata": {},
   "outputs": [],
   "source": [
    "#generate new dataframe including brand dummies\n",
    "b_dummies = pd.get_dummies(df['brand'])\n",
    "df_dummies = df.merge(b_dummies, left_index = True, right_index = True)"
   ]
  },
  {
   "cell_type": "code",
   "execution_count": 54,
   "metadata": {},
   "outputs": [],
   "source": [
    "x = df_dummies.drop(['δ', 'store', 'week', 'brand',  'cost', 'sales', 'sales_store_week', 's',], 1)\n",
    "y = df_dummies['δ']\n",
    "model2 = sm.OLS(y, x).fit()\n",
    "model2_α = model2.params['price']"
   ]
  },
  {
   "cell_type": "markdown",
   "metadata": {},
   "source": [
    "###### (3) Estimate this model using OLS with price and promotion as product characteristics and store-brand dummies"
   ]
  },
  {
   "cell_type": "code",
   "execution_count": 173,
   "metadata": {},
   "outputs": [],
   "source": [
    "#generate new dataframe including store-brand dummies\n",
    "store_brand = df['store'].astype('str') + '_' + df['brand'].astype('str') \n",
    "bs_dummies = pd.get_dummies(store_brand)\n",
    "df_bsdummies = df.merge(bs_dummies, left_index = True, right_index = True)"
   ]
  },
  {
   "cell_type": "code",
   "execution_count": 56,
   "metadata": {},
   "outputs": [],
   "source": [
    "x = df_bsdummies.drop(['δ', 'store', 's', 'brand', 'week', 'cost', 'sales', 'sales_store_week'], 1)\n",
    "y = df_bsdummies['δ']\n",
    "model3 = sm.OLS(y, x).fit()\n",
    "model3_α = model3.params['price']"
   ]
  },
  {
   "cell_type": "code",
   "execution_count": 57,
   "metadata": {},
   "outputs": [],
   "source": [
    "#Produce table with regression results from OLS\n",
    "pystout(models=[model1,model2,model3],\n",
    "        file='OLS_logit.tex',\n",
    "        digits=3,\n",
    "        endog_names=False,\n",
    "        addrows={'Brand dummies':['No', 'Yes', 'No'], 'Store-brand dummies':['No', 'No', 'Yes']},\n",
    "        exogvars=['price', 'prom'],\n",
    "        varlabels={'price':'Price','prom':'Promotion'},\n",
    "        mgroups={'OLS':[1,3]},\n",
    "        modstat={'nobs':'Obs','rsquared_adj':'Adj. R\\sym{2}'}\n",
    "        )"
   ]
  },
  {
   "cell_type": "markdown",
   "metadata": {},
   "source": [
    "###### (4) Estimate the models of 1, 2 and 3 using wholesale cost as an instrument."
   ]
  },
  {
   "cell_type": "code",
   "execution_count": 58,
   "metadata": {},
   "outputs": [],
   "source": [
    "# Run IV regression for model 1\n",
    "x = df.drop(['δ', 'store', 'week', 'brand',  'cost', 'sales', 'sales_store_week', 's',], 1)\n",
    "z = df.drop(['δ', 'store', 'week', 'brand', 'sales', 'price', 'sales_store_week', 's',], 1)\n",
    "y = df['δ']\n",
    "model4 = IV2SLS(y, x, instrument=z).fit()"
   ]
  },
  {
   "cell_type": "code",
   "execution_count": 59,
   "metadata": {},
   "outputs": [],
   "source": [
    "# Run IV regression for model 2\n",
    "x = df_dummies.drop(['δ', 'store', 'week', 'brand',  'cost', 'sales', 'sales_store_week', 's',], 1)\n",
    "z = df_dummies.drop(['δ', 'store', 'week', 'brand', 'sales', 'price', 'sales_store_week', 's',], 1)\n",
    "y = df['δ']\n",
    "model5 = IV2SLS(y, x, z).fit()"
   ]
  },
  {
   "cell_type": "code",
   "execution_count": 60,
   "metadata": {},
   "outputs": [],
   "source": [
    "# Run IV regression for model 3\n",
    "x = df_bsdummies.drop(['δ', 'store', 'week', 'brand',  'cost', 'sales', 'sales_store_week', 's',], 1)\n",
    "z = df_bsdummies.drop(['δ', 'store', 'week', 'brand', 'price', 'sales', 'sales_store_week', 's',], 1)\n",
    "y = df['δ']\n",
    "model6 = IV2SLS(y, x, z).fit()"
   ]
  },
  {
   "cell_type": "code",
   "execution_count": 61,
   "metadata": {},
   "outputs": [],
   "source": [
    "#Produce table with regression results from IV with costs\n",
    "pystout(models=[model4,model5,model6],\n",
    "        file='IV_logit_cost.tex',\n",
    "        digits=3,\n",
    "        endog_names=False,\n",
    "        addrows={'Brand dummies':['No', 'Yes', 'No'], 'Store-brand dummies':['No', 'No', 'Yes']},\n",
    "        exogvars=['price', 'prom'],\n",
    "        varlabels={'price':'Price','prom':'Promotion'},\n",
    "        mgroups={'IV':[1,3]},\n",
    "        modstat={'nobs':'Obs','rsquared_adj':'Adj. R\\sym{2}'}\n",
    "        )"
   ]
  },
  {
   "cell_type": "markdown",
   "metadata": {},
   "source": [
    "###### (5) Estimate the models of 1, 2 and 3 using the Hausman instrument (average price in other markets)."
   ]
  },
  {
   "cell_type": "code",
   "execution_count": 62,
   "metadata": {},
   "outputs": [],
   "source": [
    "#Calculate hausman instrument, and add to all the datasets\n",
    "grouped = df.groupby(['brand', 'week'])\n",
    "n = grouped['price'].transform('count')\n",
    "mean = grouped['price'].transform('mean')\n",
    "df['price_iv'] = (mean*n - df['price'])/(n-1)\n",
    "df_dummies['price_iv'] = (mean*n - df['price'])/(n-1)\n",
    "df_bsdummies['price_iv'] = (mean*n - df['price'])/(n-1)\n",
    "df.sort_values(by=['brand', 'week', 'store'], inplace=True)"
   ]
  },
  {
   "cell_type": "code",
   "execution_count": 63,
   "metadata": {},
   "outputs": [],
   "source": [
    "#Run the IV with  the Hausman instrument for model 1\n",
    "x = df.drop(['δ', 'store', 'week', 'brand',  'cost', 'price_iv', 'sales', 'sales_store_week', 's',], 1)\n",
    "z = df.drop(['δ', 'store', 'week', 'brand',  'cost', 'price', 'sales', 'sales_store_week', 's',], 1)\n",
    "y = df['δ']\n",
    "model7 = IV2SLS(y, x, z).fit()"
   ]
  },
  {
   "cell_type": "code",
   "execution_count": 64,
   "metadata": {},
   "outputs": [],
   "source": [
    "#Run the IV with  the Hausman instrument for model 2\n",
    "x = df_dummies.drop(['δ', 'store', 'week', 'brand',  'cost', 'price_iv', 'sales', 'sales_store_week', 's',], 1)\n",
    "z = df_dummies.drop(['δ', 'store', 'week', 'brand',  'cost', 'price', 'sales', 'sales_store_week', 's',], 1)\n",
    "y = df_dummies['δ']\n",
    "model8 = IV2SLS(y, x, z).fit()"
   ]
  },
  {
   "cell_type": "code",
   "execution_count": 66,
   "metadata": {},
   "outputs": [],
   "source": [
    "#Run the IV with  the Hausman instrument for model 3\n",
    "x = df_bsdummies.drop(['δ', 'store', 'week', 'brand',  'cost', 'price_iv', 'sales', 'sales_store_week', 's',], 1)\n",
    "z = df_bsdummies.drop(['δ', 'store', 'week', 'brand',  'cost', 'price', 'sales', 'sales_store_week', 's',], 1)\n",
    "y = df_bsdummies['δ']\n",
    "model9 = IV2SLS(y, x, z).fit()\n",
    "β_hat = model9.params['price'] #Save coefficient on price for later"
   ]
  },
  {
   "cell_type": "code",
   "execution_count": 67,
   "metadata": {},
   "outputs": [],
   "source": [
    "#Produce table with regression results from IV with Hausman instruments\n",
    "pystout(models=[model7,model8,model9],\n",
    "        file='IV_logit_hausmann.tex',\n",
    "        digits=3,\n",
    "        endog_names=False,\n",
    "        addrows={'Brand dummies':['No', 'Yes', 'No'], 'Store-brand dummies':['No', 'No', 'Yes']},\n",
    "        exogvars=['price', 'prom'],\n",
    "        varlabels={'price':'Price','prom':'Promotion'},\n",
    "        mgroups={'IV':[1,3]},\n",
    "        modstat={'nobs':'Obs','rsquared_adj':'Adj. R\\sym{2}'}\n",
    "        )"
   ]
  },
  {
   "cell_type": "markdown",
   "metadata": {},
   "source": [
    "###### (6) Using the analytic formula for elasticity of the logit model, compute the mean own-price elasticities for all brand in the market using the estimates in 1, 2 and 3. Do these results make sense?"
   ]
  },
  {
   "cell_type": "code",
   "execution_count": 68,
   "metadata": {
    "scrolled": true
   },
   "outputs": [],
   "source": [
    "#Calculate the own price elasticity for each model, using the elasticity formula for logit\n",
    "d_summary['model1_η'] = model1_α * d_summary['price_brand'] * (1 - d_summary['share_brand'])\n",
    "d_summary['model2_η'] = model2_α * d_summary['price_brand'] * (1 - d_summary['share_brand'])\n",
    "d_summary['model3_η'] = model3_α * d_summary['price_brand'] * (1 - d_summary['share_brand'])"
   ]
  },
  {
   "cell_type": "code",
   "execution_count": 69,
   "metadata": {},
   "outputs": [],
   "source": [
    "d_price_elast_export = d_summary[['name', 'size', 'model1_η', 'model2_η', 'model3_η']].round(3)\n",
    "with open(\"elasticities_logit.tex\", \"w\") as f:\n",
    "    f.write(\"\\\\begin{tabular}{\" + \"l\" + \"c\" * (len(d_price_elast_export.columns)-1) + \"} \\hline\\hline \\n\" )\n",
    "    f.write(\" \\\\textbf{Brand name} & \\\\textbf{Size} & \\\\textbf{Model 1} & \\\\textbf{Model 2} & \\\\textbf{Model 3}  \\\\\\\\\\n \\hline \" )\n",
    "    for i, row in d_price_elast_export.iterrows():\n",
    "        f.write(\" & \".join([str(x) for x in row.values]) + \" \\\\\\\\\\n\")\n",
    "    f.write(\"\\hline \\hline \\\\\\\\\\n\")\n",
    "    f.write(\"\\\\end{tabular}\")"
   ]
  },
  {
   "cell_type": "markdown",
   "metadata": {},
   "source": [
    "## Problem 2 - BLP"
   ]
  },
  {
   "cell_type": "markdown",
   "metadata": {},
   "source": [
    "Consider utility function for good $j$ in store-week $t$ for consumer $i$:\n",
    "    $$ u_{ijt} = X_{jt}\\beta + \\beta_{ib}B_{jt}\\text{(Branded Product)} + \\alpha_i p_{jt} + \\xi_{jt} + \\epsilon_{ijt} $$\n",
    "Where:\n",
    "$$\\beta_{ib} = \\sigma_B\\nu_i$$\n",
    "$$\\alpha_i = \\alpha + \\sigma_I I_i$$\n",
    "\n",
    "Hence $$ u_{ijt} = X_{jt}\\beta + \\sigma_B\\nu_iB_{jt}\\text{(Branded Product)} + (\\alpha + \\sigma_I I_i) p_{jt} + \\xi_{jt} + \\epsilon_{ijt} $$\n",
    "\n",
    "Or, rearranging $$ u_{ijt} = X_{jt}\\beta + \\alpha p_{jt} + \\xi_{jt} + \\sigma_B\\nu_iB_{jt}\\text{(Branded Product)} + \\sigma_I I_i p_{jt} + \\epsilon_{ijt} $$\n"
   ]
  },
  {
   "cell_type": "code",
   "execution_count": 70,
   "metadata": {},
   "outputs": [],
   "source": [
    "d_blp = pd.merge(d, d_demographic, on=['store', 'week'])\n",
    "d_blp['constant'] = 1\n",
    "d_blp['sales_store_week'] = d_blp.groupby(['store', 'week'])['sales'].transform('sum')\n",
    "d_blp['s0'] = d_blp['sales'] / d_blp['sales_store_week'] * 0.62 # All of the brands have a total market share of 62%\n",
    "d_blp['market'] = d_blp.groupby(['store', 'week']).ngroup()\n",
    "d_blp.sort_values(by=['store', 'week', 'brand'], inplace=True)"
   ]
  },
  {
   "cell_type": "code",
   "execution_count": 174,
   "metadata": {},
   "outputs": [],
   "source": [
    "#Define function for calculating δ\n",
    "def iterate_shares(β, σ_B, σ_I, δ, p, v, B, I, X, ids, s):\n",
    "    max_iter = 10000\n",
    "    tol = 1e-12\n",
    "    dist = 1e3      # Initial distance\n",
    "    j = 0\n",
    "\n",
    "    while j < max_iter and dist > tol:\n",
    "        s = np.zeros(I.shape[0])\n",
    "        \n",
    "        for i in range(ns):\n",
    "            numerator = np.exp(δ + σ_B * v[i] * B + σ_I * I[:, i] * p)\n",
    "            denominator =  ndimage.sum(numerator, ids, ids) + 1\n",
    "            s += numerator / denominator * (1 / ns)\n",
    "        \n",
    "        δ_new = δ + np.log(s0) - np.log(s)\n",
    "        dist = np.linalg.norm(δ_new - δ)\n",
    "        δ = δ_new\n",
    "        j += 1\n",
    "            \n",
    "    return δ"
   ]
  },
  {
   "cell_type": "code",
   "execution_count": 72,
   "metadata": {},
   "outputs": [],
   "source": [
    "#Define the gmm function\n",
    "def gmm(params, p, v, B, I, X, Z, ids, s0):\n",
    "    β = params[:-2]\n",
    "    σ_B = params[-2]\n",
    "    σ_I = params[-1]\n",
    "    \n",
    "    δ_init = X @ β #Initial δ\n",
    "    \n",
    "    δ = iterate_shares(β, σ_B, σ_I, δ_init, p, v, B, I, X, ids, s0)\n",
    "    ξ = δ - X @ β\n",
    "    Q = Z.T @ ξ @ np.linalg.inv(Z.T @ Z) @ Z.T @ ξ\n",
    "    print(Q)\n",
    "    \n",
    "    return Q"
   ]
  },
  {
   "cell_type": "code",
   "execution_count": 73,
   "metadata": {},
   "outputs": [],
   "source": [
    "# Put the data in the necessary format\n",
    "X = d_blp[['price', 'constant', 'prom']].copy() #Include price, constant and promotions\n",
    "brand_dummies = pd.get_dummies(d_blp['brand']) #get brand dummies\n",
    "X = pd.concat([X, brand_dummies], axis=1) # add brand dummies to X\n",
    "X = X.values #turn it into an array\n",
    "p = d_blp['price'].values\n",
    "B = d_blp['branded'].values\n",
    "I = d_blp.iloc[:, d_blp.columns.str.startswith('hhincome')].values\n",
    "Z = instruments.iloc[:, 3:].values\n",
    "ids = d_blp['market'].values\n",
    "s0 = d_blp['s0'].values\n",
    "\n",
    "#Setting the frequencies\n",
    "ns = I.shape[1]\n",
    "\n",
    "#Set our random draws from the normal distribution\n",
    "np.random.seed(1)\n",
    "v = np.random.normal(size=ns)"
   ]
  },
  {
   "cell_type": "code",
   "execution_count": 32,
   "metadata": {},
   "outputs": [],
   "source": [
    "#Set the starting values for parameters\n",
    "params = np.ones(X.shape[1] + 2) # all to 1, except for..\n",
    "params[0] = -1.5 #price coefficient is set to -1.5\n",
    "\n",
    "bounds = [[None, None]] * len(params)\n",
    "bounds[0] = [None, 0]  # Price coefficient must be negative"
   ]
  },
  {
   "cell_type": "code",
   "execution_count": 33,
   "metadata": {},
   "outputs": [
    {
     "name": "stdout",
     "output_type": "stream",
     "text": [
      "87888519.88131578\n",
      "87888519.70675772\n",
      "87888519.9154053\n",
      "87888519.88495928\n",
      "87888519.8837772\n",
      "87888519.88481718\n",
      "87888519.8862721\n",
      "87888519.88345313\n",
      "87888519.88497826\n",
      "87888519.88707906\n",
      "87888519.88324326\n",
      "87888519.88390844\n",
      "87888519.88412353\n",
      "87888519.88269708\n",
      "87888519.88447821\n",
      "87888519.87942535\n",
      "87888521.76379874\n",
      "476241.573027822\n",
      "476241.58561681653\n",
      "476241.5706441677\n",
      "476241.572753335\n",
      "476241.5728793066\n",
      "476241.57276867644\n",
      "476241.57261335745\n",
      "476241.5728871569\n",
      "476241.5727750296\n",
      "476241.57259761484\n",
      "476241.5728994588\n",
      "476241.57286072324\n",
      "476241.57275433943\n",
      "476241.57297161163\n",
      "476241.57291366014\n",
      "476241.5734358409\n",
      "476241.4392059514\n",
      "19135.88008876711\n",
      "19135.880366679852\n",
      "19135.88010482521\n",
      "19135.880070243496\n",
      "19135.880109638383\n",
      "19135.880075849447\n",
      "19135.880025259306\n",
      "19135.88009521589\n",
      "19135.880092113373\n",
      "19135.880065573736\n",
      "19135.880093634172\n",
      "19135.88010074447\n",
      "19135.880015278846\n",
      "19135.880127148346\n",
      "19135.88019203995\n",
      "19135.880113616426\n",
      "19135.87706115235\n",
      "18902.37181415747\n",
      "18902.371806722855\n",
      "18902.371885822977\n",
      "18902.3718015674\n",
      "18902.37183894777\n",
      "18902.371806945783\n",
      "18902.37175879421\n",
      "18902.371824012618\n",
      "18902.37182343022\n",
      "18902.37180039331\n",
      "18902.37182210455\n",
      "18902.371830278742\n",
      "18902.371745315708\n",
      "18902.37185472258\n",
      "18902.371922452254\n",
      "18902.371830330907\n",
      "18902.37182984922\n",
      "18900.95493106566\n",
      "18900.954924387413\n",
      "18900.95500258114\n",
      "18900.954918460335\n",
      "18900.95495584464\n",
      "18900.95492383914\n",
      "18900.954875682914\n",
      "18900.95494091141\n",
      "18900.954940322357\n",
      "18900.95491727703\n",
      "18900.954939004285\n",
      "18900.954947175345\n",
      "18900.954862214152\n",
      "18900.954971623476\n",
      "18900.95503934307\n",
      "18900.954947261453\n",
      "18900.954938690993\n",
      "18895.320904936765\n",
      "18895.32090128406\n",
      "18895.32097585211\n",
      "18895.32089227043\n",
      "18895.320929670488\n",
      "18895.32089765084\n",
      "18895.32084947596\n",
      "18895.320914744923\n",
      "18895.320914129243\n",
      "18895.320891050247\n",
      "18895.32091284154\n",
      "18895.320921000137\n",
      "18895.320836046318\n",
      "18895.32094546533\n",
      "18895.321013144705\n",
      "18895.32092122201\n",
      "18895.320880296516\n",
      "18873.320898892795\n",
      "18873.32090734222\n",
      "18873.32096740763\n",
      "18873.32088598246\n",
      "18873.320923445437\n",
      "18873.320891369272\n",
      "18873.320843119895\n",
      "18873.320908550588\n",
      "18873.32090782842\n",
      "18873.32088461475\n",
      "18873.32090666225\n",
      "18873.320914770848\n",
      "18873.320829846656\n",
      "18873.320939304424\n",
      "18873.321006822836\n",
      "18873.32091553581\n",
      "18873.32074519079\n",
      "18793.898364428165\n",
      "18793.898421285976\n",
      "18793.898423341136\n",
      "18793.898350541916\n",
      "18793.898388256654\n",
      "18793.898355954378\n",
      "18793.898307406947\n",
      "18793.89837348469\n",
      "18793.8983723365\n",
      "18793.898348584124\n",
      "18793.898371656378\n",
      "18793.898379565086\n",
      "18793.898294759303\n",
      "18793.898404372077\n",
      "18793.89847124667\n",
      "18793.898382502244\n",
      "18793.897694488747\n",
      "18016.998431727938\n",
      "18016.99873952855\n",
      "18016.998439752715\n",
      "18016.998412985267\n",
      "18016.998451409363\n",
      "18016.998418445142\n",
      "18016.99836911764\n",
      "18016.99843751217\n",
      "18016.99843416558\n",
      "18016.99840798841\n",
      "18016.998436026144\n",
      "18016.998442770368\n",
      "18016.998359926074\n",
      "18016.998468604055\n",
      "18016.9985310669\n",
      "18016.99845694191\n",
      "18016.995086353192\n",
      "16234.472659749688\n",
      "16234.473311460702\n",
      "16234.472595266343\n",
      "16234.472634854488\n",
      "16234.472672771282\n",
      "16234.472640167338\n",
      "16234.472591672573\n",
      "16234.472660663196\n",
      "16234.472654329467\n",
      "16234.472625742761\n",
      "16234.472659723942\n",
      "16234.47266455321\n",
      "16234.47258774603\n",
      "16234.47269082215\n",
      "16234.47274456928\n",
      "16234.472693983005\n",
      "16234.465649309179\n",
      "12467.984859152319\n",
      "12467.985900201795\n",
      "12467.984705550021\n",
      "12467.98482857409\n",
      "12467.984862152449\n",
      "12467.984833179045\n",
      "12467.984790456852\n",
      "12467.984853572398\n",
      "12467.984843918675\n",
      "12467.984814926589\n",
      "12467.98485344584\n",
      "12467.984855297893\n",
      "12467.984793838225\n",
      "12467.984879589949\n",
      "12467.984916685402\n",
      "12467.984901523841\n",
      "12467.973703312899\n",
      "6754.7596739038\n",
      "6754.760861880512\n",
      "6754.759468697615\n",
      "6754.759644456458\n",
      "6754.759666781281\n",
      "6754.759647411653\n",
      "6754.759619222808\n",
      "6754.759663369066\n",
      "6754.759652627455\n",
      "6754.75962941631\n",
      "6754.759664052272\n",
      "6754.759662709084\n",
      "6754.759628796355\n",
      "6754.759679944028\n",
      "6754.759693408805\n",
      "6754.759714305754\n",
      "6754.746966196125\n",
      "1893.60077182642\n",
      "1893.6015635030071\n",
      "1893.6006213650853\n",
      "1893.6007547144318\n",
      "1893.6007622135658\n",
      "1893.6007556259913\n",
      "1893.60074627275\n",
      "1893.6007628872173\n",
      "1893.6007558490678\n",
      "1893.6007449281374\n",
      "1893.6007637452676\n",
      "1893.6007612876488\n",
      "1893.600755289201\n",
      "1893.6007679068011\n",
      "1893.60078003248\n",
      "1893.6007949258242\n",
      "1893.5923155502096\n",
      "224.09011829816788\n",
      "224.09035094986393\n",
      "224.09016665767763\n",
      "224.09011405640473\n",
      "224.0901139495403\n",
      "224.09011399642063\n",
      "224.09011412039948\n",
      "224.0901150790221\n",
      "224.09011304064893\n",
      "224.09011124085674\n",
      "224.09011548909433\n",
      "224.09011432762634\n",
      "224.09011759189207\n",
      "224.09011470513923\n",
      "224.09012721667378\n",
      "224.0901240447363\n",
      "224.08763928561484\n",
      "37.418954351752426\n",
      "37.41897315195137\n",
      "37.41894963042346\n",
      "37.418954199071564\n",
      "37.418953632949425\n",
      "37.41895411952461\n",
      "37.41895472160877\n",
      "37.41895395909981\n",
      "37.41895379166261\n",
      "37.41895396861776\n",
      "37.418954069841234\n",
      "37.41895393202128\n",
      "37.41895519601128\n",
      "37.41895353018279\n",
      "37.41895647708219\n",
      "37.41895461877785\n",
      "37.418756290622824\n",
      "31.422837447073817\n",
      "31.422836222674178\n",
      "31.42283766556538\n",
      "31.422837521793465\n",
      "31.42283736935743\n",
      "31.4228375060392\n",
      "31.42283756631131\n",
      "31.42283743807708\n",
      "31.422837438074403\n",
      "31.422837518240215\n",
      "31.422837496967773\n",
      "31.42283755338814\n",
      "31.422837596801127\n",
      "31.422837378279734\n",
      "31.422837619381063\n",
      "31.422837401465802\n",
      "31.42285178499693\n",
      "31.37152744114938\n",
      "31.37152736856861\n",
      "31.37152754247041\n",
      "31.371527472375057\n",
      "31.371527385469516\n",
      "31.371527465787057\n",
      "31.371527442489466\n",
      "31.371527433360185\n",
      "31.371527422207684\n",
      "31.37152745280553\n",
      "31.371527490572415\n",
      "31.371527555064834\n",
      "31.37152746657653\n",
      "31.37152742553836\n",
      "31.371527468205777\n",
      "31.371527452947394\n",
      "31.371529329645604\n",
      "31.3713919962084\n",
      "31.371392095770297\n",
      "31.371392066568227\n",
      "31.371392023382462\n",
      "31.37139193907623\n",
      "31.371392017130507\n",
      "31.37139199058373\n",
      "31.37139198672266\n",
      "31.371391974028136\n",
      "31.371392001657703\n",
      "31.371392044061906\n",
      "31.371392108209957\n",
      "31.371392016287295\n",
      "31.371391980773943\n",
      "31.371392022303226\n",
      "31.37139201341284\n",
      "31.371392042776144\n"
     ]
    }
   ],
   "source": [
    "#Minimize gmm\n",
    "results = minimize(gmm, params, args=(p, v, B, I, X, Z, ids, s0), \n",
    "                   method='L-BFGS-B',\n",
    "                   bounds=bounds,\n",
    "                   tol=1e-5,\n",
    "                   options={'disp' : True})"
   ]
  },
  {
   "cell_type": "code",
   "execution_count": 175,
   "metadata": {},
   "outputs": [
    {
     "data": {
      "text/plain": [
       "array([-1.66381975,  0.02549763,  1.16766022,  0.66632234,  1.09551766,\n",
       "        1.74134164,  0.8669196 ,  0.87418101,  1.18264668,  0.89260881,\n",
       "        0.78263597,  1.92305578,  0.45497064, -0.4548423 ,  0.78311546,\n",
       "        0.0957516 ])"
      ]
     },
     "execution_count": 175,
     "metadata": {},
     "output_type": "execute_result"
    }
   ],
   "source": [
    "results.x"
   ]
  },
  {
   "cell_type": "code",
   "execution_count": 176,
   "metadata": {},
   "outputs": [],
   "source": [
    "table = [[\"$\\\\alpha$\",results.x[0]],[\"$\\\\sigma_I$\",results.x[-1]],[\"$\\\\sigma_B$\",results.x[-2]], ['GMM criterion value',results.fun]]\n",
    "with open('blp_estimates.tex', 'w') as f:\n",
    "    print(tabulate(table, headers=['Parameters', 'Point estimates'], colalign=('left','center'), tablefmt='latex_raw', floatfmt='.3f'), file=f)"
   ]
  },
  {
   "cell_type": "markdown",
   "metadata": {},
   "source": [
    "###### (2) Calculate the own and cross-price elasticity for store 9 in week 10"
   ]
  },
  {
   "cell_type": "code",
   "execution_count": 238,
   "metadata": {},
   "outputs": [],
   "source": [
    "#Only select store 9, week 10\n",
    "d_blp_elastic = d_blp[(d_blp['store'] == 9) & (d_blp['week'] ==10)].copy()\n",
    "J = d_blp_elastic.shape[0]"
   ]
  },
  {
   "cell_type": "code",
   "execution_count": 239,
   "metadata": {},
   "outputs": [],
   "source": [
    "#Reassign values\n",
    "X = d_blp_elastic[['price', 'constant', 'prom']].copy() #Include price, constant and promotions\n",
    "brand_dummies = pd.get_dummies(d_blp_elastic['brand']) #get brand dummies\n",
    "X = pd.concat([X, brand_dummies], axis=1) # add brand dummies to X\n",
    "X = X.values\n",
    "name = d_blp_elastic['name'].values\n",
    "size = d_blp_elastic['size'].values\n",
    "cost = d_blp_elastic['cost'].values\n",
    "p = d_blp_elastic['price'].values\n",
    "B = d_blp_elastic['branded'].values\n",
    "I = d_blp_elastic.iloc[:, d_blp_elastic.columns.str.startswith('hhincome')].values\n",
    "s0 = d_blp_elastic['s0'].values"
   ]
  },
  {
   "cell_type": "code",
   "execution_count": 240,
   "metadata": {},
   "outputs": [],
   "source": [
    "#Save estimation results\n",
    "θ = results.x\n",
    "α = θ[0]\n",
    "β = θ[:-2]\n",
    "σ_B = θ[-2]\n",
    "σ_I = θ[-1]\n",
    "δ = X @ β"
   ]
  },
  {
   "cell_type": "code",
   "execution_count": 241,
   "metadata": {},
   "outputs": [],
   "source": [
    "def get_η(δ, p, v, B, I, X, s0, σ_B, σ_I):\n",
    "\n",
    "        η = np.zeros((J, J))\n",
    "        \n",
    "        for j in range(J):\n",
    "            s_sum = 0\n",
    "            for i in range(ns):\n",
    "                denominator =  np.sum(np.exp(δ + σ_B * v[i] * B + σ_I * I[:, i] * p)) + 1\n",
    "                s_ij = np.exp(δ[j] + σ_B * v[i] * B[j] + σ_I * I[j, i] * p[j]) / denominator\n",
    "                s_sum += (s_ij - s_ij**2) * (α + σ_I * I[j, i]) * (1 / ns)\n",
    "            η[j,j] = (p[j] / s0[j]) * s_sum\n",
    "            \n",
    "        for j in range(J):\n",
    "            for k in range(J):\n",
    "                if j != k:\n",
    "                    s_sum = 0\n",
    "                    for i in range(ns):\n",
    "                        denominator =  np.sum(np.exp(δ + σ_B * v[i] * B + σ_I * I[:, i] * p)) + 1\n",
    "                        s_ij = np.exp(δ[j] + σ_B * v[i] * B[j] + σ_I * I[j, i] * p[j]) / denominator\n",
    "                        s_ik = np.exp(δ[k] + σ_B * v[i] * B[k] + σ_I * I[k, i] * p[k]) / denominator\n",
    "                        s_sum += s_ij * s_ik * (α + σ_I * I[j, i]) * (1 / ns)\n",
    "                    η[j,k] = - (p[k] / s0[j]) * s_sum\n",
    "            \n",
    "        return η"
   ]
  },
  {
   "cell_type": "code",
   "execution_count": 242,
   "metadata": {},
   "outputs": [],
   "source": [
    "η = get_η(δ, p, v, B, I, X, s0, σ_B, σ_I)\n",
    "row = np.arange(1, J + 1)"
   ]
  },
  {
   "cell_type": "code",
   "execution_count": 243,
   "metadata": {},
   "outputs": [],
   "source": [
    "with open('elasticity_blp.tex', 'w') as f:\n",
    "    print(tabulate(η,  showindex=row, headers=range(1, J + 1), numalign ='center', tablefmt='latex_raw', floatfmt=('.0f','.3f','.3f','.3f','.3f','.3f','.3f','.3f','.3f','.3f','.3f','.3f')), file=f)"
   ]
  },
  {
   "cell_type": "code",
   "execution_count": 244,
   "metadata": {},
   "outputs": [],
   "source": [
    "def get_η_logit(δ, p, v, B, I, X, s0, σ_B, σ_I):\n",
    "        \n",
    "        σ_B = 0\n",
    "        σ_I = 0\n",
    "        η = np.zeros((J, J))\n",
    "        \n",
    "        for j in range(J):\n",
    "            s_sum = 0\n",
    "            for i in range(ns):\n",
    "                denominator =  np.sum(np.exp(δ + σ_B * v[i] * B + σ_I * I[:, i] * p)) + 1\n",
    "                s_ij = np.exp(δ[j] + σ_B * v[i] * B[j] + σ_I * I[j, i] * p[j]) / denominator\n",
    "                s_sum += (s_ij - s_ij**2) * (α + σ_I * I[j, i]) * (1 / ns)\n",
    "            η[j,j] = (p[j] / s0[j]) * s_sum\n",
    "            \n",
    "        for j in range(J):\n",
    "            for k in range(J):\n",
    "                if j != k:\n",
    "                    s_sum = 0\n",
    "                    for i in range(ns):\n",
    "                        denominator =  np.sum(np.exp(δ + σ_B * v[i] * B + σ_I * I[:, i] * p)) + 1\n",
    "                        s_ij = np.exp(δ[j] + σ_B * v[i] * B[j] + σ_I * I[j, i] * p[j]) / denominator\n",
    "                        s_ik = np.exp(δ[k] + σ_B * v[i] * B[k] + σ_I * I[k, i] * p[k]) / denominator\n",
    "                        s_sum += s_ij * s_ik * (α + σ_I * I[j, i]) * (1 / ns)\n",
    "                    η[j,k] = - (p[k] / s0[j]) * s_sum\n",
    "            \n",
    "        return η"
   ]
  },
  {
   "cell_type": "code",
   "execution_count": 245,
   "metadata": {
    "scrolled": true
   },
   "outputs": [],
   "source": [
    "η_logit = get_η_logit(δ, p, v, B, I, X, s0, σ_B, σ_I)\n",
    "row = np.arange(1, J + 1).round(0)"
   ]
  },
  {
   "cell_type": "code",
   "execution_count": 246,
   "metadata": {},
   "outputs": [],
   "source": [
    "with open('elasticity_logit.tex', 'w') as f:\n",
    "    print(tabulate(η_logit,  showindex=row, headers=range(1, J + 1), numalign ='center', tablefmt='latex_raw', floatfmt=('.0f','.3f','.3f','.3f','.3f','.3f','.3f','.3f','.3f','.3f','.3f','.3f')), file=f)"
   ]
  },
  {
   "cell_type": "markdown",
   "metadata": {},
   "source": [
    "###### (3) Back out marginal costs for store 9, week 10"
   ]
  },
  {
   "cell_type": "code",
   "execution_count": 247,
   "metadata": {},
   "outputs": [],
   "source": [
    "def get_partials(δ, p, v, B, I, X, s0, σ_B, σ_I):\n",
    "\n",
    "        partials = np.zeros((J, J))\n",
    "        \n",
    "        for j in range(J):\n",
    "            s_sum = 0\n",
    "            for i in range(ns):\n",
    "                denominator =  np.sum(np.exp(δ + σ_B * v[i] * B + σ_I * I[:, i] * p)) + 1\n",
    "                s_ij = np.exp(δ[j] + σ_B * v[i] * B[j] + σ_I * I[j, i] * p[j]) / denominator\n",
    "                s_sum += (s_ij - s_ij**2) * (α + σ_I * I[j, i]) * (1 / ns)\n",
    "            partials[j,j] = s_sum\n",
    "            \n",
    "        for j in range(J):\n",
    "            for k in range(J):\n",
    "                if j != k:\n",
    "                    s_sum = 0\n",
    "                    for i in range(ns):\n",
    "                        denominator =  np.sum(np.exp(δ + σ_B * v[i] * B + σ_I * I[:, i] * p)) + 1\n",
    "                        s_ij = np.exp(δ[j] + σ_B * v[i] * B[j] + σ_I * I[j, i] * p[j]) / denominator\n",
    "                        s_ik = np.exp(δ[k] + σ_B * v[i] * B[k] + σ_I * I[k, i] * p[k]) / denominator\n",
    "                        s_sum += s_ij * s_ik * (α + σ_I * I[j, i]) * (1 / ns)\n",
    "                    partials[j,k] = - s_sum\n",
    "            \n",
    "        return partials"
   ]
  },
  {
   "cell_type": "code",
   "execution_count": 248,
   "metadata": {},
   "outputs": [],
   "source": [
    "Ω_pre = np.zeros((J, J))\n",
    "Ω_pre[:3, :3] = 1        # Fill in Tylenol ownership\n",
    "Ω_pre[3:6, 3:6] = 1      # Fill in Advil ownership\n",
    "Ω_pre[6:9, 6:9] = 1      # Fill in Bayer ownership\n",
    "Ω_pre[9:, 9:] = 1        # Fill in store brand ownership"
   ]
  },
  {
   "cell_type": "code",
   "execution_count": 251,
   "metadata": {},
   "outputs": [],
   "source": [
    "partials = get_partials(δ, p, v, B, I, X, s0, σ_B, σ_I)\n",
    "mc_blp = p + np.linalg.inv(Ω_pre * partials) @ s0\n",
    "diff  = cost - mc_blp"
   ]
  },
  {
   "cell_type": "code",
   "execution_count": 252,
   "metadata": {},
   "outputs": [],
   "source": [
    "table = np.array([name, size, cost, mc_blp, diff]).T\n",
    "with open('mc.tex', 'w') as f:\n",
    "    print(tabulate(table, headers=['Brand', 'Size', 'Wholesale costs', 'Estimated marginal costs', 'Difference'], numalign ='center', tablefmt='latex_raw', floatfmt=('.0f','.2f','.2f','.2f','.2f')), file=f)"
   ]
  },
  {
   "cell_type": "markdown",
   "metadata": {},
   "source": [
    "## Problem 3 - merger analysis"
   ]
  },
  {
   "cell_type": "code",
   "execution_count": 195,
   "metadata": {},
   "outputs": [],
   "source": [
    "def get_partials_logit(α, s0):\n",
    "\n",
    "        partials = np.zeros((J, J))\n",
    "        \n",
    "        for j in range(J):\n",
    "            partials[j,j] = (s0[j] - s0[j]**2) * α\n",
    "            \n",
    "        for j in range(J):\n",
    "            for k in range(J):\n",
    "                if j != k:\n",
    "                    partials[j,k] = - s0[j] * s0[k] * α \n",
    "            \n",
    "        return partials"
   ]
  },
  {
   "cell_type": "code",
   "execution_count": 253,
   "metadata": {},
   "outputs": [],
   "source": [
    "partials_logit = get_partials_logit(β_hat, s0)\n",
    "mc_logit =  p + np.linalg.inv(Ω_pre * partials_logit) @ s0"
   ]
  },
  {
   "cell_type": "code",
   "execution_count": 254,
   "metadata": {},
   "outputs": [],
   "source": [
    "Ω_post = np.zeros((J, J))\n",
    "Ω_post[:9, :9] = 1  \n",
    "Ω_post[9:, 9:] = 1  \n",
    "Ω_post\n",
    "\n",
    "p_logit = mc_logit - np.linalg.inv(Ω_post * partials_logit) @ s0"
   ]
  },
  {
   "cell_type": "code",
   "execution_count": 255,
   "metadata": {},
   "outputs": [],
   "source": [
    "table = np.array([name, size, p, p_logit]).T\n",
    "with open('merger_prices_logit.tex', 'w') as f:\n",
    "    print(tabulate(table, headers=['Brand', 'Size', 'Pre-merger prices', 'Post-merger prices'], numalign ='center', tablefmt='latex_raw', floatfmt=('.0f','.2f','.2f','.2f')), file=f)"
   ]
  },
  {
   "cell_type": "markdown",
   "metadata": {},
   "source": [
    "###### (3) Conduct the merger analysis for BLP"
   ]
  },
  {
   "cell_type": "code",
   "execution_count": 257,
   "metadata": {},
   "outputs": [
    {
     "data": {
      "text/plain": [
       "array([ 5.19512867,  6.79046967,  8.31007528,  5.12219297,  7.62842908,\n",
       "       10.76426021,  4.94682047,  5.5918192 ,  6.23562211,  1.69      ,\n",
       "        4.49      ])"
      ]
     },
     "execution_count": 257,
     "metadata": {},
     "output_type": "execute_result"
    }
   ],
   "source": [
    "p_blp = mc_blp - np.linalg.inv(Ω_post * partials) @ s0 #calculate new prices\n",
    "p_blp"
   ]
  },
  {
   "cell_type": "code",
   "execution_count": 258,
   "metadata": {},
   "outputs": [],
   "source": [
    "table = np.array([name, size, p, p_blp]).T\n",
    "with open('merger_prices_blp.tex', 'w') as f:\n",
    "    print(tabulate(table, headers=['Brand', 'Size', 'Pre-merger prices', 'Post-merger prices'], numalign ='center', tablefmt='latex_raw', floatfmt=('.0f','.2f','.2f','.2f')), file=f)"
   ]
  },
  {
   "cell_type": "code",
   "execution_count": null,
   "metadata": {},
   "outputs": [],
   "source": []
  }
 ],
 "metadata": {
  "kernelspec": {
   "display_name": "Python 3",
   "language": "python",
   "name": "python3"
  },
  "language_info": {
   "codemirror_mode": {
    "name": "ipython",
    "version": 3
   },
   "file_extension": ".py",
   "mimetype": "text/x-python",
   "name": "python",
   "nbconvert_exporter": "python",
   "pygments_lexer": "ipython3",
   "version": "3.8.3"
  }
 },
 "nbformat": 4,
 "nbformat_minor": 4
}
