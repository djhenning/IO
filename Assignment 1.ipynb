{
 "cells": [
  {
   "cell_type": "markdown",
   "metadata": {},
   "source": [
    "## Assignment 1 - IO"
   ]
  },
  {
   "cell_type": "markdown",
   "metadata": {},
   "source": [
    "Author: David Henning (worked with Natasha Watkins, Chandni Raja and Jonathan Kowarski)"
   ]
  },
  {
   "cell_type": "code",
   "execution_count": 1,
   "metadata": {},
   "outputs": [],
   "source": [
    "import numpy as np\n",
    "import pandas as pd\n",
    "from statsmodels.api import OLS, tsa\n",
    "from statsmodels.sandbox.regression.gmm import IV2SLS\n",
    "from scipy.optimize import minimize\n",
    "from scipy import ndimage"
   ]
  },
  {
   "cell_type": "code",
   "execution_count": 2,
   "metadata": {},
   "outputs": [],
   "source": [
    "d = pd.read_csv(\"PS1_Data/OTC_Data.csv\", sep='\\t')\n",
    "#d[d.duplicated(subset=['store', 'week', 'brand'], keep=False)] # No duplicates at store-week-brand level"
   ]
  },
  {
   "cell_type": "code",
   "execution_count": 3,
   "metadata": {},
   "outputs": [],
   "source": [
    "d_demographic = pd.read_csv(\"PS1_Data/OTCDemographics.csv\", sep='\\t')"
   ]
  },
  {
   "cell_type": "code",
   "execution_count": 4,
   "metadata": {},
   "outputs": [],
   "source": [
    "instruments = pd.read_csv(\"PS1_Data/OTCDataInstruments.csv\", sep='\\t')"
   ]
  },
  {
   "cell_type": "code",
   "execution_count": 5,
   "metadata": {},
   "outputs": [],
   "source": [
    "d.sort_values(by=['store', 'week', 'brand'], inplace=True)"
   ]
  },
  {
   "cell_type": "code",
   "execution_count": 6,
   "metadata": {},
   "outputs": [],
   "source": [
    "#Try to reproduce summary stat table from the problem set\n",
    "d['revenue'] = d['sales_'] * d['price_']\n",
    "d['revenue_brand'] = d.groupby(['brand'])['revenue'].transform('sum')\n",
    "d['sales_brand'] = d.groupby(['brand'])['sales_'].transform('sum')\n",
    "d['price_brand'] = d.groupby(['brand'])['price_'].transform('mean')\n",
    "d['cost_brand'] = d.groupby(['brand'])['cost_'].transform('mean')\n",
    "d['branded'] = d['brand']\n",
    "d.loc[d['branded'] <= 9, 'branded'] = 1\n",
    "d.loc[d['branded'] > 9, 'branded'] = 0\n",
    "d_summary = d[['brand', 'revenue_brand', 'sales_brand', 'price_brand', 'cost_brand']]\n",
    "d_summary = d_summary[:11]\n",
    "d_summary['revenue_tot'] = d_summary['revenue_brand'].sum()\n",
    "d_summary['share'] = d_summary['revenue_brand'] / d_summary['revenue_tot'] * 0.62"
   ]
  },
  {
   "cell_type": "code",
   "execution_count": 7,
   "metadata": {},
   "outputs": [],
   "source": [
    "d_instruments = pd.read_csv(\"PS1_Data/OTCDataInstruments.csv\", sep='\\t')"
   ]
  },
  {
   "cell_type": "markdown",
   "metadata": {},
   "source": [
    "### Problem 1"
   ]
  },
  {
   "cell_type": "markdown",
   "metadata": {},
   "source": [
    "Consider utility function for good $j$ in store-week $t$ for consumer $i$:\n",
    "    $$ u_{ijt} = X_{jt}\\beta + \\alpha p_{jt} + \\xi_{jt} + \\epsilon_{jt} $$\n",
    "   "
   ]
  },
  {
   "cell_type": "markdown",
   "metadata": {},
   "source": [
    "###### (1) Estimate this model using OLS with price and promotion as product characteristics"
   ]
  },
  {
   "cell_type": "code",
   "execution_count": 8,
   "metadata": {},
   "outputs": [],
   "source": [
    "# calculate the shares\n",
    "df = d[['store', 'week', 'brand', 'prom_', 'price_', 'cost_', 'sales_']].copy()\n",
    "df['sales_store_week'] = df.groupby(['store', 'week'])['sales_'].transform('sum')\n",
    "df['s'] = df['sales_'] / df['sales_store_week'] * 0.62 # All of the brands have a total market share of 62%"
   ]
  },
  {
   "cell_type": "code",
   "execution_count": 9,
   "metadata": {},
   "outputs": [],
   "source": [
    "# Transform variables for regression, recall outside options share is 0.38\n",
    "s_0 = 0.38\n",
    "df['δ'] = np.log(df['s']) - np.log(s_0)\n",
    "df['constant'] = 1"
   ]
  },
  {
   "cell_type": "code",
   "execution_count": 10,
   "metadata": {},
   "outputs": [],
   "source": [
    "# Run OLS regression\n",
    "x = df.drop(['δ', 'store', 'week', 'brand',  'cost_', 'sales_', 'sales_store_week', 's',], 1)\n",
    "y = df['δ']\n",
    "results1 = OLS(y, x).fit()\n",
    "model1_α = results1.params['price_']\n",
    "#print(results2.summary())"
   ]
  },
  {
   "cell_type": "markdown",
   "metadata": {},
   "source": [
    "###### (2) Estimate this model using OLS with price and promotion as product characteristics and brand dummies"
   ]
  },
  {
   "cell_type": "code",
   "execution_count": 11,
   "metadata": {},
   "outputs": [],
   "source": [
    "#Add dummies to dataframe\n",
    "b_dummies = pd.get_dummies(df['brand'])\n",
    "df_dummies = df.merge(b_dummies, left_index = True, right_index = True)"
   ]
  },
  {
   "cell_type": "code",
   "execution_count": 12,
   "metadata": {},
   "outputs": [],
   "source": [
    "x = df_dummies.drop(['δ', 'store', 'week', 'brand',  'cost_', 'sales_', 'sales_store_week', 's',], 1)\n",
    "y = df_dummies['δ']\n",
    "results2 = OLS(y, x).fit()\n",
    "model2_α = results2.params['price_']\n",
    "#print(results2.summary())"
   ]
  },
  {
   "cell_type": "markdown",
   "metadata": {},
   "source": [
    "###### (3) Estimate this model using OLS with price and promotion as product characteristics and store-brand dummies"
   ]
  },
  {
   "cell_type": "code",
   "execution_count": 13,
   "metadata": {},
   "outputs": [],
   "source": [
    "store_brand = df['store'].astype('str') + '_' + df['brand'].astype('str') \n",
    "bs_dummies = pd.get_dummies(store_brand)\n",
    "df_bsdummies = df.merge(bs_dummies, left_index = True, right_index = True)"
   ]
  },
  {
   "cell_type": "code",
   "execution_count": 14,
   "metadata": {},
   "outputs": [],
   "source": [
    "x = df_bsdummies.drop(['δ', 'store', 's', 'brand', 'week', 'cost_', 'sales_', 'sales_store_week'], 1)\n",
    "y = df_bsdummies['δ']"
   ]
  },
  {
   "cell_type": "code",
   "execution_count": 15,
   "metadata": {},
   "outputs": [],
   "source": [
    "results3 = OLS(y, x).fit()\n",
    "model3_α = results3.params['price_']\n",
    "#print(results3.summary())"
   ]
  },
  {
   "cell_type": "markdown",
   "metadata": {},
   "source": [
    "###### (4) Estimate the models of 1, 2 and 3 using wholesale cost as an instrument."
   ]
  },
  {
   "cell_type": "code",
   "execution_count": 16,
   "metadata": {},
   "outputs": [],
   "source": [
    "# Run IV regression for first problem\n",
    "x = df.drop(['δ', 'store', 'week', 'brand',  'cost_', 'sales_', 'sales_store_week', 's',], 1)\n",
    "z = df.drop(['δ', 'store', 'week', 'brand', 'sales_', 'price_', 'sales_store_week', 's',], 1)\n",
    "y = df['δ']\n",
    "results4 = IV2SLS(y, x, instrument=z).fit()\n",
    "#print(results4.summary())"
   ]
  },
  {
   "cell_type": "code",
   "execution_count": 17,
   "metadata": {},
   "outputs": [],
   "source": [
    "# Run IV regression for second problem\n",
    "x = df_dummies.drop(['δ', 'store', 'week', 'brand',  'cost_', 'sales_', 'sales_store_week', 's',], 1)\n",
    "z = df_dummies.drop(['δ', 'store', 'week', 'brand', 'sales_', 'price_', 'sales_store_week', 's',], 1)\n",
    "y = df['δ']\n",
    "results4 = IV2SLS(y, x, z).fit()\n",
    "#print(results4.summary())"
   ]
  },
  {
   "cell_type": "code",
   "execution_count": 18,
   "metadata": {},
   "outputs": [],
   "source": [
    "# Run IV regression for third problem\n",
    "x = df_bsdummies.drop(['δ', 'store', 'week', 'brand',  'cost_', 'sales_', 'sales_store_week', 's',], 1)\n",
    "z = df_bsdummies.drop(['δ', 'store', 'week', 'brand', 'price_', 'sales_', 'sales_store_week', 's',], 1)\n",
    "y = df['δ']\n",
    "results4 = IV2SLS(y, x, z).fit()\n",
    "#print(results4.summary())"
   ]
  },
  {
   "cell_type": "markdown",
   "metadata": {},
   "source": [
    "###### (5) Estimate the models of 1, 2 and 3 using the Hausman instrument (average price in other markets)."
   ]
  },
  {
   "cell_type": "code",
   "execution_count": 19,
   "metadata": {},
   "outputs": [],
   "source": [
    "#Calculate hausman instrument, and add to all the datasets\n",
    "grouped = df.groupby(['brand', 'week'])\n",
    "n = grouped['price_'].transform('count')\n",
    "mean = grouped['price_'].transform('mean')\n",
    "df['price_iv'] = (mean*n - df['price_'])/(n-1)\n",
    "df_dummies['price_iv'] = (mean*n - df['price_'])/(n-1)\n",
    "df_bsdummies['price_iv'] = (mean*n - df['price_'])/(n-1)\n",
    "df.sort_values(by=['brand', 'week', 'store'], inplace=True)"
   ]
  },
  {
   "cell_type": "code",
   "execution_count": 20,
   "metadata": {},
   "outputs": [],
   "source": [
    "#Run the IV with  the Hausman instrument for (1)\n",
    "x = df.drop(['δ', 'store', 'week', 'brand',  'cost_', 'price_iv', 'sales_', 'sales_store_week', 's',], 1)\n",
    "z = df.drop(['δ', 'store', 'week', 'brand',  'cost_', 'price_', 'sales_', 'sales_store_week', 's',], 1)\n",
    "y = df['δ']\n",
    "results5 = IV2SLS(y, x, z).fit()\n",
    "#print(results5.summary())"
   ]
  },
  {
   "cell_type": "code",
   "execution_count": 21,
   "metadata": {},
   "outputs": [],
   "source": [
    "#Run the IV with  the Hausman instrument for (2)\n",
    "x = df_dummies.drop(['δ', 'store', 'week', 'brand',  'cost_', 'price_iv', 'sales_', 'sales_store_week', 's',], 1)\n",
    "z = df_dummies.drop(['δ', 'store', 'week', 'brand',  'cost_', 'price_', 'sales_', 'sales_store_week', 's',], 1)\n",
    "y = df_dummies['δ']\n",
    "results5 = IV2SLS(y, x, z).fit()\n",
    "#print(results5.summary())"
   ]
  },
  {
   "cell_type": "code",
   "execution_count": 22,
   "metadata": {},
   "outputs": [],
   "source": [
    "#Run the IV with  the Hausman instrument for (3)\n",
    "x = df_bsdummies.drop(['δ', 'store', 'week', 'brand',  'cost_', 'price_iv', 'sales_', 'sales_store_week', 's',], 1)\n",
    "z = df_bsdummies.drop(['δ', 'store', 'week', 'brand',  'cost_', 'price_', 'sales_', 'sales_store_week', 's',], 1)\n",
    "y = df_bsdummies['δ']\n",
    "results5 = IV2SLS(y, x, z).fit()\n",
    "#print(results5.summary())"
   ]
  },
  {
   "cell_type": "markdown",
   "metadata": {},
   "source": [
    "###### (6) Using the analytic formula for elasticity of the logit model, compute the mean own-price elasticities for all brand in the market using the estimates in 1, 2 and 3. Do these results make sense?"
   ]
  },
  {
   "cell_type": "code",
   "execution_count": 23,
   "metadata": {
    "scrolled": true
   },
   "outputs": [],
   "source": [
    "d_summary['model1_η'] = -model1_α * d_summary['price_brand'] * (1 - d_summary['share'])\n",
    "d_summary['model2_η'] = -model2_α * d_summary['price_brand'] * (1 - d_summary['share'])\n",
    "d_summary['model3_η'] = -model3_α * d_summary['price_brand'] * (1 - d_summary['share'])\n",
    "#d_summary"
   ]
  },
  {
   "cell_type": "markdown",
   "metadata": {},
   "source": [
    "## Problem 2"
   ]
  },
  {
   "cell_type": "markdown",
   "metadata": {},
   "source": [
    "Consider utility function for good $j$ in store-week $t$ for consumer $i$:\n",
    "    $$ u_{ijt} = X_{jt}\\beta + \\beta_{ib}B_{jt}\\text{(Branded Product)} + \\alpha_i p_{jt} + \\xi_{jt} + \\epsilon_{ijt} $$\n",
    "Where:\n",
    "$$\\beta_{ib} = \\sigma_B\\nu_i$$\n",
    "$$\\alpha_i = \\alpha + \\sigma_I I_i$$\n",
    "\n",
    "Hence $$ u_{ijt} = X_{jt}\\beta + \\sigma_B\\nu_iB_{jt}\\text{(Branded Product)} + (\\alpha + \\sigma_I I_i) p_{jt} + \\xi_{jt} + \\epsilon_{ijt} $$\n",
    "\n",
    "Or, rearranging $$ u_{ijt} = X_{jt}\\beta + \\alpha p_{jt} + \\xi_{jt} + \\sigma_B\\nu_iB_{jt}\\text{(Branded Product)} + \\sigma_I I_i p_{jt} + \\epsilon_{ijt} $$\n"
   ]
  },
  {
   "cell_type": "code",
   "execution_count": 24,
   "metadata": {},
   "outputs": [],
   "source": [
    "d_blp = pd.merge(d, d_demographic, on=['store', 'week'])\n",
    "d_blp['constant'] = 1\n",
    "d_blp['sales_store_week'] = d_blp.groupby(['store', 'week'])['sales_'].transform('sum')\n",
    "d_blp['s'] = d_blp['sales_'] / d_blp['sales_store_week'] * 0.62 # All of the brands have a total market share of 62%\n",
    "d_blp['market'] = d_blp.groupby(['store', 'week']).ngroup()\n",
    "d_blp.sort_values(by=['store', 'week', 'brand'], inplace=True)"
   ]
  },
  {
   "cell_type": "code",
   "execution_count": 25,
   "metadata": {},
   "outputs": [],
   "source": [
    "#tryout\n",
    "def iterate_shares2(β, σ_B, σ_I, δ, p, v, B, I, X, ids, s):\n",
    "    max_iter = 100\n",
    "    dist = 10e3      # Initial distance\n",
    "    tol = 10e-10      # Tolerance\n",
    "    i = 0\n",
    "\n",
    "    s_hat = np.zeros(I.shape[0])\n",
    "        \n",
    "    for i in range(ns):\n",
    "        d_blp['numerator'] = np.exp(δ + σ_B * v[i] * B + σ_I * I[:, i] * p)\n",
    "        denominator = d_blp.groupby(['store', 'week'])['numerator'].transform('sum')\n",
    "        s_hat += d_blp.numerator / denominator * (1 / ns)\n",
    "            \n",
    "    return s_hat"
   ]
  },
  {
   "cell_type": "code",
   "execution_count": 26,
   "metadata": {},
   "outputs": [],
   "source": [
    "#tryout\n",
    "def iterate_shares3(β, σ_B, σ_I, δ, p, v, B, I, X, ids, s):\n",
    "    max_iter = 100\n",
    "    dist = 10e3      # Initial distance\n",
    "    tol = 1e-10      # Tolerance\n",
    "    i = 0\n",
    "\n",
    "    s_hat = np.zeros(I.shape[0])\n",
    "        \n",
    "    for i in range(ns):\n",
    "        numerator = np.exp(δ + σ_B * v[i] * B + σ_I * I[:, i] * p)\n",
    "        denominator = ndimage.sum(numerator, ids, ids) + 1\n",
    "        s_hat += numerator / denominator * (1 / ns)\n",
    "            \n",
    "    return s_hat"
   ]
  },
  {
   "cell_type": "code",
   "execution_count": 27,
   "metadata": {},
   "outputs": [],
   "source": [
    "def iterate_shares(β, σ_B, σ_I, δ, p, v, B, I, X, ids, s):\n",
    "    max_iter = 1000\n",
    "    dist = 1e3      # Initial distance\n",
    "    tol = 1e-12      # Tolerance\n",
    "    i = 0\n",
    "\n",
    "    while i < max_iter and dist > tol:\n",
    "        s_hat = np.zeros(I.shape[0])\n",
    "        \n",
    "        for i in range(ns):\n",
    "            numerator = np.exp(δ + σ_B * v[i] * B + σ_I * I[:, i] * p)\n",
    "            denominator =  ndimage.sum(numerator, ids, ids) + 1\n",
    "            s_hat += numerator / denominator * (1 / ns)\n",
    "        \n",
    "        δ_new = δ + np.log(s) - np.log(s_hat)\n",
    "        dist = np.linalg.norm(δ_new - δ)\n",
    "        δ = δ_new\n",
    "        i += 1\n",
    "            \n",
    "    return δ"
   ]
  },
  {
   "cell_type": "code",
   "execution_count": 28,
   "metadata": {},
   "outputs": [],
   "source": [
    "def gmm(params, p, v, B, I, X, Z, ids, s):\n",
    "    β = params[:-2]\n",
    "    σ_B = params[-2]\n",
    "    σ_I = params[-1]\n",
    "    \n",
    "    δ_init = X @ β #Initial δ\n",
    "    \n",
    "    δ = iterate_shares(β, σ_B, σ_I, δ_init, p, v, B, I, X, ids, s)\n",
    "    ξ = δ - X @ β\n",
    "    Q = Z.T @ ξ @ np.linalg.inv(Z.T @ Z) @ Z.T @ ξ\n",
    "    print(Q)\n",
    "    \n",
    "    return Q"
   ]
  },
  {
   "cell_type": "code",
   "execution_count": 50,
   "metadata": {},
   "outputs": [],
   "source": [
    "# Put everything into arrays\n",
    "#X = d_blp[['constant', 'proms_']].copy()\n",
    "X = d_blp[['price_', 'constant']].copy() #Include price, constant and promotions\n",
    "brand_dummies = pd.get_dummies(d_blp['brand']) #get brand dummies\n",
    "X = pd.concat([X, brand_dummies], axis=1) # add brand dummies to X\n",
    "X = X.values #turn it into an array\n",
    "p = d_blp['price_'].values\n",
    "B = d_blp['branded'].values\n",
    "I = d_blp.iloc[:, d_blp.columns.str.startswith('hhincome')].values\n",
    "Z = instruments.iloc[:, 3:].values\n",
    "ids = d_blp['market'].values\n",
    "s = d_blp['s'].values\n",
    "\n",
    "#Setting the frequencies\n",
    "ns = I.shape[1]\n",
    "\n",
    "#Starting values for parameters\n",
    "np.random.seed(1)\n",
    "v = np.random.normal(size=ns)"
   ]
  },
  {
   "cell_type": "code",
   "execution_count": 51,
   "metadata": {},
   "outputs": [],
   "source": [
    "# params = np.ones(X.shape[1] + 2) * 0.1\n",
    "# params[0] = 0.1\n",
    "# params[1] = 0.1\n",
    "# β = params[:-2]\n",
    "# σ_B = params[-2]\n",
    "# σ_I = params[-1]\n",
    "# δ_init = X @ β #Initial δ\n",
    "# s_hat = iterate_shares2(β, σ_B, σ_I, δ_init, p, v, B, I, X, ids, s)"
   ]
  },
  {
   "cell_type": "code",
   "execution_count": 52,
   "metadata": {},
   "outputs": [],
   "source": [
    "params = np.ones(X.shape[1] + 2)\n",
    "params[-2] = 0.1\n",
    "params[-1] = 0.1\n",
    "β = params[:-2]\n",
    "σ_B = params[-2]\n",
    "σ_I = params[-1]"
   ]
  },
  {
   "cell_type": "code",
   "execution_count": 64,
   "metadata": {},
   "outputs": [
    {
     "data": {
      "text/plain": [
       "array([1. , 1. , 1. , 1. , 1. , 1. , 1. , 1. , 1. , 1. , 1. , 1. , 1. ,\n",
       "       0.1, 0.1])"
      ]
     },
     "execution_count": 64,
     "metadata": {},
     "output_type": "execute_result"
    }
   ],
   "source": [
    "# params = np.ones(X.shape[1] + 2) * 0.1\n",
    "# params[0] = 0.1\n",
    "# params[1] = 0.1\n",
    "# β = params[:-2]\n",
    "# σ_B = params[-2]\n",
    "# σ_I = params[-1]\n",
    "# δ_init = X @ β #Initial δ\n",
    "# δ =  iterate_shares(β, σ_B, σ_I, δ_init, p, v, B, I, X, ids, s)\n",
    "# δ\n",
    "params = np.ones(X.shape[1] + 2)\n",
    "params[-2] = 0.1\n",
    "params[-1] = 0.1"
   ]
  },
  {
   "cell_type": "code",
   "execution_count": 54,
   "metadata": {},
   "outputs": [],
   "source": [
    "bounds = [[None, None]] * len(params)\n",
    "bounds[0] = [None, 0]  # Price coefficient must be negative\n",
    "# bounds[1] = [0, None]\n",
    "bounds[-2] = [0, None]\n",
    "bounds[-1] = [0, None]"
   ]
  },
  {
   "cell_type": "code",
   "execution_count": 55,
   "metadata": {},
   "outputs": [
    {
     "name": "stdout",
     "output_type": "stream",
     "text": [
      "3118871.6550044436\n",
      "3118871.6222178293\n",
      "3118871.6614650213\n",
      "3118871.6554787634\n",
      "3118871.6556505547\n",
      "3118871.655882247\n",
      "3118871.655405281\n",
      "3118871.655693003\n",
      "3118871.6560720163\n",
      "3118871.655365304\n",
      "3118871.6554962015\n",
      "3118871.6554662567\n",
      "3118871.6552964924\n",
      "3118871.65569153\n",
      "3118871.6542557073\n",
      "3118872.004810669\n",
      "673658.4191347624\n",
      "673658.4040501766\n",
      "673658.4221427473\n",
      "673658.4193657376\n",
      "673658.4194291182\n",
      "673658.419511507\n",
      "673658.4193245508\n",
      "673658.4194566398\n",
      "673658.4196192288\n",
      "673658.4193049727\n",
      "673658.4193695202\n",
      "673658.4193130296\n",
      "673658.4192896504\n",
      "673658.4195054416\n",
      "673658.4187944299\n",
      "673658.580019357\n",
      "16253.70444666126\n",
      "16253.704458403468\n",
      "16253.704509486593\n",
      "16253.704469323382\n",
      "16253.704439619736\n",
      "16253.704394873726\n",
      "16253.704455586978\n",
      "16253.704454835366\n",
      "16253.704433206582\n",
      "16253.70445386326\n",
      "16253.704461417985\n",
      "16253.704382495634\n",
      "16253.704484128819\n",
      "16253.70454674773\n",
      "16253.704458023838\n",
      "16253.70420207011\n",
      "16249.29823074138\n",
      "16249.298243346377\n",
      "16249.298293389531\n",
      "16249.298253388486\n",
      "16249.298223683532\n",
      "16249.298178936364\n",
      "16249.29823965551\n",
      "16249.298238896401\n",
      "16249.298217260006\n",
      "16249.298237933108\n",
      "16249.2982454835\n",
      "16249.298166570592\n",
      "16249.298268197119\n",
      "16249.298330798752\n",
      "16249.298242124827\n",
      "16249.297976836395\n",
      "16231.707147129404\n",
      "16231.707163184408\n",
      "16231.707209068947\n",
      "16231.707169716343\n",
      "16231.70714000624\n",
      "16231.70709525454\n",
      "16231.707155997126\n",
      "16231.707155208063\n",
      "16231.707133541331\n",
      "16231.707154279979\n",
      "16231.707161813094\n",
      "16231.707082938023\n",
      "16231.707184537769\n",
      "16231.707247070362\n",
      "16231.70715859632\n",
      "16231.70685598137\n",
      "16161.883449169833\n",
      "16161.88347900707\n",
      "16161.883508278022\n",
      "16161.883471516318\n",
      "16161.883441785918\n",
      "16161.883397016425\n",
      "16161.88345785216\n",
      "16161.883456943422\n",
      "16161.883435155725\n",
      "16161.883456155996\n",
      "16161.883463619994\n",
      "16161.883384896963\n",
      "16161.883486388633\n",
      "16161.883548644768\n",
      "16161.883460970228\n",
      "16161.883009247103\n",
      "15891.250603797518\n",
      "15891.250688483175\n",
      "15891.250651627237\n",
      "15891.250625183293\n",
      "15891.250595377023\n",
      "15891.250550544068\n",
      "15891.250611740448\n",
      "15891.250610355659\n",
      "15891.250588090152\n",
      "15891.25061012814\n",
      "15891.25061731581\n",
      "15891.250539210827\n",
      "15891.250640255737\n",
      "15891.250701401317\n",
      "15891.250616925045\n",
      "15891.249571887562\n",
      "14948.429968249076\n",
      "14948.43026814827\n",
      "14948.4299716659\n",
      "14948.429985810388\n",
      "14948.429955777316\n",
      "14948.42991080362\n",
      "14948.429973268125\n",
      "14948.42997001808\n",
      "14948.4299459305\n",
      "14948.429971989917\n",
      "14948.429978073513\n",
      "14948.429902586895\n",
      "14948.430001631648\n",
      "14948.4300582671\n",
      "14948.429986564703\n",
      "14948.426615113462\n",
      "7970.164366328194\n",
      "7970.165469897236\n",
      "7970.164548063072\n",
      "7970.164362854566\n",
      "7970.164340698769\n",
      "7970.164308429599\n",
      "7970.164357669182\n",
      "7970.164347738812\n",
      "7970.164323251647\n",
      "7970.1643582954075\n",
      "7970.164357887976\n",
      "7970.164315614073\n",
      "7970.16437708581\n",
      "7970.164398366602\n",
      "7970.164399913347\n",
      "7970.152392096069\n",
      "3398.4455978942538\n",
      "3398.4465825605967\n",
      "3398.4457843729588\n",
      "3398.445586282256\n",
      "3398.445577489464\n",
      "3398.4455653747823\n",
      "3398.4455866538156\n",
      "3398.4455781893225\n",
      "3398.4455644264863\n",
      "3398.445588107582\n",
      "3398.445584717992\n",
      "3398.4455765418315\n",
      "3398.4455934459056\n",
      "3398.4455891349194\n",
      "3398.4456193837477\n",
      "3398.4349865215936\n",
      "1050.4621771243\n",
      "1050.4625697535487\n",
      "1050.4622555457725\n",
      "1050.4621710821941\n",
      "1050.4621693047852\n",
      "1050.4621672655198\n",
      "1050.4621719027791\n",
      "1050.4621687740805\n",
      "1050.4621647094157\n",
      "1050.4621729302223\n",
      "1050.4621708512536\n",
      "1050.462172603103\n",
      "1050.4621729819307\n",
      "1050.4621675415838\n",
      "1050.4621838834578\n",
      "1050.45796871603\n",
      "553.9012263942028\n",
      "553.901238961444\n",
      "553.9012276134032\n",
      "553.9012266700382\n",
      "553.9012258545916\n",
      "553.9012249125911\n",
      "553.9012261592445\n",
      "553.9012263403193\n",
      "553.9012258997815\n",
      "553.9012266431769\n",
      "553.9012263666809\n",
      "553.9012249790976\n",
      "553.9012269716575\n",
      "553.9012283198394\n",
      "553.9012272415023\n",
      "553.9011000440688\n",
      "551.954970485951\n",
      "551.9549705884147\n",
      "551.9549686485356\n",
      "551.9549711526272\n",
      "551.9549701315921\n",
      "551.9549688659162\n",
      "551.9549704897224\n",
      "551.9549707715129\n",
      "551.954970275681\n",
      "551.954970937749\n",
      "551.9549707847334\n",
      "551.9549686572274\n",
      "551.9549715210895\n",
      "551.9549735950803\n",
      "551.9549713524126\n",
      "551.9549758960094\n",
      "551.9480452965453\n",
      "551.9480456069128\n",
      "551.948043503849\n",
      "551.9480459588849\n",
      "551.9480449384566\n",
      "551.9480436739015\n",
      "551.9480452972255\n",
      "551.9480455772448\n",
      "551.9480450802605\n",
      "551.9480457456316\n",
      "551.9480455913293\n",
      "551.9480434685806\n",
      "551.948046327652\n",
      "551.9480483955276\n",
      "551.9480461652702\n",
      "551.9480484838027\n",
      "551.9242181773085\n",
      "551.9242193193387\n",
      "551.9242165635648\n",
      "551.9242188223157\n",
      "551.9242178043221\n",
      "551.9242165442242\n",
      "551.9242181656499\n",
      "551.9242184385616\n",
      "551.9242179369671\n",
      "551.9242186155786\n",
      "551.92421845612\n",
      "551.9242163523851\n",
      "551.9242191923053\n",
      "551.924221235712\n",
      "551.9242190550973\n",
      "551.9242124735697\n"
     ]
    }
   ],
   "source": [
    "#Minimize gmm\n",
    "params = np.ones(X.shape[1] + 2)\n",
    "params[-2] = 0.1\n",
    "params[-1] = 0.1\n",
    "\n",
    "results2 = minimize(gmm, params, args=(p, v, B, I, X, Z, ids, s), \n",
    "                   method='L-BFGS-B',\n",
    "                   bounds=bounds,\n",
    "                   tol=1e-4,\n",
    "                   options={'disp' : True})"
   ]
  },
  {
   "cell_type": "code",
   "execution_count": 57,
   "metadata": {},
   "outputs": [
    {
     "data": {
      "text/plain": [
       "array([-8.61115986, -0.87305211,  0.26637237,  0.77839983])"
      ]
     },
     "execution_count": 57,
     "metadata": {},
     "output_type": "execute_result"
    }
   ],
   "source": [
    "results.x"
   ]
  },
  {
   "cell_type": "code",
   "execution_count": 58,
   "metadata": {},
   "outputs": [
    {
     "data": {
      "text/plain": [
       "array([-8.95676486, -0.94434124,  0.80753453,  0.84225795,  0.90198158,\n",
       "        0.86552969,  0.78870035,  0.74435416,  0.88121405,  0.82453546,\n",
       "        1.0501204 ,  0.81673099,  0.53593409,  0.2742315 ,  0.79700168])"
      ]
     },
     "execution_count": 58,
     "metadata": {},
     "output_type": "execute_result"
    }
   ],
   "source": [
    "results2.x"
   ]
  },
  {
   "cell_type": "code",
   "execution_count": 61,
   "metadata": {},
   "outputs": [
    {
     "data": {
      "text/plain": [
       "-0.4885103692995294"
      ]
     },
     "execution_count": 61,
     "metadata": {},
     "output_type": "execute_result"
    }
   ],
   "source": [
    "results2.x[0] + results2.x[-1] * I.mean()"
   ]
  }
 ],
 "metadata": {
  "kernelspec": {
   "display_name": "Python 3",
   "language": "python",
   "name": "python3"
  },
  "language_info": {
   "codemirror_mode": {
    "name": "ipython",
    "version": 3
   },
   "file_extension": ".py",
   "mimetype": "text/x-python",
   "name": "python",
   "nbconvert_exporter": "python",
   "pygments_lexer": "ipython3",
   "version": "3.8.3"
  }
 },
 "nbformat": 4,
 "nbformat_minor": 4
}
